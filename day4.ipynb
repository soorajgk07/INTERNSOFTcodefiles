{
 "cells": [
  {
   "cell_type": "code",
   "execution_count": 1,
   "id": "79948072-b879-4a8f-a893-2f140e4c557e",
   "metadata": {},
   "outputs": [
    {
     "name": "stdout",
     "output_type": "stream",
     "text": [
      "<__main__.Person object at 0x000002621A519050>\n",
      "Alec Baldwin was born in 1958.\n"
     ]
    }
   ],
   "source": [
    "class Person:\n",
    "    pass\n",
    "john_doe=Person()\n",
    "john_doe.name=\"Alec\"\n",
    "john_doe.surname=\"Baldwin\"\n",
    "john_doe.year_of_birth=1958\n",
    "print(john_doe)\n",
    "print(\"%s %s was born in %d.\" %\n",
    "        (john_doe.name,john_doe.surname,john_doe.year_of_birth))\n",
    "\n",
    "\n"
   ]
  },
  {
   "cell_type": "code",
   "execution_count": 7,
   "id": "22e98cd8-8bef-49be-9816-7c4cbc39a138",
   "metadata": {},
   "outputs": [],
   "source": [
    "class Person:\n",
    "    def __init__(self, name, surname, year_of_birth):\n",
    "        self.name = name\n",
    "        self.surname = surname  \n",
    "        self.year_of_birth = year_of_birth\n"
   ]
  },
  {
   "cell_type": "code",
   "execution_count": 8,
   "id": "9fa28f50-9b06-49f5-827e-63d2e5615fbc",
   "metadata": {},
   "outputs": [
    {
     "name": "stdout",
     "output_type": "stream",
     "text": [
      "<__main__.Person object at 0x000002621A5249D0>\n",
      "Alec Baldwin was born in 1958\n"
     ]
    }
   ],
   "source": [
    "alec=Person(\"Alec\",\"Baldwin\",1958)\n",
    "print(alec)\n",
    "print(\"%s %s was born in %d\"%(alec.name,alec.surname,alec.year_of_birth))"
   ]
  },
  {
   "cell_type": "markdown",
   "id": "44b637a1-e601-4800-8682-6fe7c44eb2b2",
   "metadata": {},
   "source": [
    "**Methods**"
   ]
  },
  {
   "cell_type": "code",
   "execution_count": 15,
   "id": "d4f30bc0-2fd0-46dd-9fc6-559c7ce4289c",
   "metadata": {},
   "outputs": [
    {
     "name": "stdout",
     "output_type": "stream",
     "text": [
      "Alec Baldwin was born in 1958.\n",
      "61\n"
     ]
    }
   ],
   "source": [
    "class Person:\n",
    "    def __init__(self, name, surname, year_of_birth):\n",
    "        self.name = name\n",
    "        self.surname = surname  \n",
    "        self.year_of_birth = year_of_birth\n",
    "        \n",
    "    def age(self, current_year):\n",
    "        return current_year - self.year_of_birth\n",
    "    \n",
    "    def __str__(self):\n",
    "        return \"%s %s was born in %d.\" % (self.name, self.surname, self.year_of_birth)\n",
    "\n",
    "\n",
    "alec = Person(\"Alec\", \"Baldwin\", 1958)\n",
    "print(alec)\n",
    "print(alec.age(2019))\n"
   ]
  },
  {
   "cell_type": "markdown",
   "id": "8a2af36b-445f-4392-b842-676b24d203fa",
   "metadata": {},
   "source": [
    "**Inheritance**"
   ]
  },
  {
   "cell_type": "code",
   "execution_count": 24,
   "id": "9e87aadb-a513-42c8-9b4e-83d119125c7f",
   "metadata": {},
   "outputs": [
    {
     "name": "stdout",
     "output_type": "stream",
     "text": [
      "Charlie Brown was born in 2006.\n",
      "<class '__main__.Student'>\n",
      "True\n",
      "True\n"
     ]
    }
   ],
   "source": [
    "class Student(Person):\n",
    "    def __init__(self, student_id, *args, **kwargs):\n",
    "        super(Student, self).__init__(*args, **kwargs)\n",
    "        self._student_id=student_id\n",
    "\n",
    "charlie=Student(1, 'Charlie', 'Brown', 2006)\n",
    "print(charlie)\n",
    "print(type(charlie))\n",
    "print(isinstance(charlie,Person))\n",
    "print(isinstance(charlie,object))"
   ]
  },
  {
   "cell_type": "markdown",
   "id": "1c3f7760-1536-4ebe-982a-9f3d542315cf",
   "metadata": {},
   "source": [
    "**Overriding methods**"
   ]
  },
  {
   "cell_type": "code",
   "execution_count": 29,
   "id": "9b006758-4fc7-4a60-a952-3fb048409431",
   "metadata": {},
   "outputs": [
    {
     "name": "stdout",
     "output_type": "stream",
     "text": [
      "Charlie Brown was born in 2006.And has ID: 1\n"
     ]
    }
   ],
   "source": [
    "class Student(Person):\n",
    "    def __init__(self, student_id, *args, **kwargs):\n",
    "        super(Student, self).__init__(*args, **kwargs)\n",
    "        self._student_id=student_id\n",
    "    def __str__(self):\n",
    "        return super(Student,self).__str__() + \"And has ID: %d\" % self._student_id\n",
    "charlie=Student(1, 'Charlie', 'Brown', 2006)\n",
    "print(charlie)\n"
   ]
  },
  {
   "cell_type": "markdown",
   "id": "510944f8-16b4-4127-afce-8fee52115ab4",
   "metadata": {},
   "source": [
    "**Polymorphism and Ducktyping**"
   ]
  },
  {
   "cell_type": "code",
   "execution_count": 31,
   "id": "d94eba1b-24c7-42b6-aa78-cf6230c7d4d6",
   "metadata": {},
   "outputs": [
    {
     "name": "stdout",
     "output_type": "stream",
     "text": [
      "2\n",
      "['a', 'b', 'c', 'd', 'e']\n",
      "abracadabra\n"
     ]
    }
   ],
   "source": [
    "def summer(a,b):\n",
    "    return a + b\n",
    "print(summer(1,1))\n",
    "print(summer([\"a\",\"b\",\"c\"],[\"d\",\"e\"]))\n",
    "print(summer(\"abra\",\"cadabra\"))"
   ]
  },
  {
   "cell_type": "markdown",
   "id": "3d9a7979-57c8-4f75-85b5-4ea6e0a56479",
   "metadata": {},
   "source": [
    "**Files**"
   ]
  },
  {
   "cell_type": "code",
   "execution_count": 32,
   "id": "44b14e41-ec5a-4b11-96be-6f3f6c6b9d86",
   "metadata": {},
   "outputs": [
    {
     "name": "stdout",
     "output_type": "stream",
     "text": [
      "Writing superman.txt\n"
     ]
    }
   ],
   "source": [
    "%%writefile superman.txt\n",
    "Hello,this is a quick superman test file"
   ]
  },
  {
   "cell_type": "code",
   "execution_count": 33,
   "id": "d74de5ba-c2bf-4d54-a83e-530a47b8c714",
   "metadata": {},
   "outputs": [],
   "source": [
    "#open the text.txt\n",
    "my_file=open('superman.txt')"
   ]
  },
  {
   "cell_type": "code",
   "execution_count": 34,
   "id": "4470a900-4563-478e-a0af-204aa16e7e9d",
   "metadata": {},
   "outputs": [
    {
     "data": {
      "text/plain": [
       "'Hello,this is a quick superman test file\\n'"
      ]
     },
     "execution_count": 34,
     "metadata": {},
     "output_type": "execute_result"
    }
   ],
   "source": [
    "my_file.read()"
   ]
  },
  {
   "cell_type": "code",
   "execution_count": 35,
   "id": "7b03d103-9120-4c7b-a4b2-5938fd887d59",
   "metadata": {},
   "outputs": [
    {
     "data": {
      "text/plain": [
       "''"
      ]
     },
     "execution_count": 35,
     "metadata": {},
     "output_type": "execute_result"
    }
   ],
   "source": [
    "my_file.read()"
   ]
  },
  {
   "cell_type": "code",
   "execution_count": 36,
   "id": "e1861389-f5cc-46ef-b940-a76d8e3d4cfd",
   "metadata": {},
   "outputs": [
    {
     "data": {
      "text/plain": [
       "0"
      ]
     },
     "execution_count": 36,
     "metadata": {},
     "output_type": "execute_result"
    }
   ],
   "source": [
    "#seek to the start of the file\n",
    "my_file.seek(0)"
   ]
  },
  {
   "cell_type": "code",
   "execution_count": 37,
   "id": "f613fe8d-9796-44f1-8bd6-1b0c78685efa",
   "metadata": {},
   "outputs": [
    {
     "data": {
      "text/plain": [
       "['Hello,this is a quick superman test file\\n']"
      ]
     },
     "execution_count": 37,
     "metadata": {},
     "output_type": "execute_result"
    }
   ],
   "source": [
    "my_file.readlines(0)"
   ]
  },
  {
   "cell_type": "code",
   "execution_count": 38,
   "id": "0769be59-860d-4603-9f36-9f303837524e",
   "metadata": {},
   "outputs": [
    {
     "data": {
      "text/plain": [
       "[]"
      ]
     },
     "execution_count": 38,
     "metadata": {},
     "output_type": "execute_result"
    }
   ],
   "source": [
    "#readlines\n",
    "my_file.readlines()"
   ]
  },
  {
   "cell_type": "markdown",
   "id": "a4f014b6-23c2-409d-b11f-bef8db5a1cf2",
   "metadata": {},
   "source": [
    "**Writing to a File**"
   ]
  },
  {
   "cell_type": "code",
   "execution_count": 39,
   "id": "ba4fcf6a-7a5c-4d75-9d93-5a241b2d540c",
   "metadata": {},
   "outputs": [],
   "source": [
    "#add the second argument to the function, 'w' which stands for write\n",
    "my_file=open('superman.txt','w+')"
   ]
  },
  {
   "cell_type": "code",
   "execution_count": 40,
   "id": "c56d5ca8-3059-4540-9303-6ec5fb10a479",
   "metadata": {},
   "outputs": [
    {
     "data": {
      "text/plain": [
       "18"
      ]
     },
     "execution_count": 40,
     "metadata": {},
     "output_type": "execute_result"
    }
   ],
   "source": [
    "#write to th file\n",
    "my_file.write('This is a new line')"
   ]
  },
  {
   "cell_type": "code",
   "execution_count": 43,
   "id": "c53166b8-1ea2-4cf8-9935-960ac8e2b36e",
   "metadata": {},
   "outputs": [
    {
     "data": {
      "text/plain": [
       "0"
      ]
     },
     "execution_count": 43,
     "metadata": {},
     "output_type": "execute_result"
    }
   ],
   "source": [
    "# seek index(0)\n",
    "my_file.seek(0)"
   ]
  },
  {
   "cell_type": "code",
   "execution_count": 45,
   "id": "bbd13956-c49d-4ecd-8865-19e5bf386daf",
   "metadata": {},
   "outputs": [
    {
     "data": {
      "text/plain": [
       "'This is a new line'"
      ]
     },
     "execution_count": 45,
     "metadata": {},
     "output_type": "execute_result"
    }
   ],
   "source": [
    "#read the file\n",
    "my_file.read()"
   ]
  },
  {
   "cell_type": "markdown",
   "id": "863784e8-a82b-48bb-b317-0e1b7fc49993",
   "metadata": {},
   "source": [
    "**Iterating through a File**"
   ]
  },
  {
   "cell_type": "code",
   "execution_count": 46,
   "id": "73681bfb-84da-42e6-b23a-7ac91291f1d3",
   "metadata": {},
   "outputs": [
    {
     "name": "stdout",
     "output_type": "stream",
     "text": [
      "Writing test.txt\n"
     ]
    }
   ],
   "source": [
    "%%writefile test.txt\n",
    "First Line\n",
    "Second Line"
   ]
  },
  {
   "cell_type": "code",
   "execution_count": 48,
   "id": "f941dfb8-be18-41c6-8aee-a1704113bd38",
   "metadata": {},
   "outputs": [
    {
     "name": "stdout",
     "output_type": "stream",
     "text": [
      "First Line\n",
      "\n",
      "Second Line\n",
      "\n"
     ]
    }
   ],
   "source": [
    "for asdf in open('test.txt'):\n",
    "    print(asdf)"
   ]
  },
  {
   "cell_type": "markdown",
   "id": "c0cd0d5a-a2b9-4d34-bc7f-4ae0b347dd24",
   "metadata": {},
   "source": [
    "**StringlO**"
   ]
  },
  {
   "cell_type": "code",
   "execution_count": 49,
   "id": "1bb1a16f-a08e-41b6-b7c4-8d8907d54028",
   "metadata": {},
   "outputs": [],
   "source": [
    "from io import StringIO"
   ]
  },
  {
   "cell_type": "code",
   "execution_count": 50,
   "id": "9b6e07b6-4aeb-48f7-ae1b-f88a73ccd015",
   "metadata": {},
   "outputs": [],
   "source": [
    "#arbitrary String\n",
    "message='This is just a normal String.'"
   ]
  },
  {
   "cell_type": "code",
   "execution_count": 52,
   "id": "6498b3cc-724e-4be0-8dec-bd61e5b5087b",
   "metadata": {},
   "outputs": [],
   "source": [
    "#use stringIO method to set as file object\n",
    "f=StringIO(message)"
   ]
  },
  {
   "cell_type": "code",
   "execution_count": 54,
   "id": "2748e607-2de8-4832-8760-4adef5d668b0",
   "metadata": {},
   "outputs": [
    {
     "data": {
      "text/plain": [
       "'This is just a normal String.'"
      ]
     },
     "execution_count": 54,
     "metadata": {},
     "output_type": "execute_result"
    }
   ],
   "source": [
    "f.read()"
   ]
  },
  {
   "cell_type": "code",
   "execution_count": 55,
   "id": "ed4af8c2-e211-4ac5-b255-cb8dcf6a2cd2",
   "metadata": {},
   "outputs": [
    {
     "data": {
      "text/plain": [
       "39"
      ]
     },
     "execution_count": 55,
     "metadata": {},
     "output_type": "execute_result"
    }
   ],
   "source": [
    "f.write('Second line written to file like object')"
   ]
  },
  {
   "cell_type": "code",
   "execution_count": 56,
   "id": "868f5992-9d18-40b6-bc6d-d973a0df5181",
   "metadata": {},
   "outputs": [
    {
     "data": {
      "text/plain": [
       "0"
      ]
     },
     "execution_count": 56,
     "metadata": {},
     "output_type": "execute_result"
    }
   ],
   "source": [
    "f.seek(0)"
   ]
  },
  {
   "cell_type": "code",
   "execution_count": 57,
   "id": "2dfb827b-84a4-4539-9f85-1c4db221e0cf",
   "metadata": {},
   "outputs": [
    {
     "data": {
      "text/plain": [
       "'This is just a normal String.Second line written to file like object'"
      ]
     },
     "execution_count": 57,
     "metadata": {},
     "output_type": "execute_result"
    }
   ],
   "source": [
    "f.read()"
   ]
  },
  {
   "cell_type": "code",
   "execution_count": null,
   "id": "e4300c6d-0f24-49bc-832f-98922bc70882",
   "metadata": {},
   "outputs": [],
   "source": []
  }
 ],
 "metadata": {
  "kernelspec": {
   "display_name": "Python 3.11",
   "language": "python",
   "name": "my-python3-11-kernel"
  },
  "language_info": {
   "codemirror_mode": {
    "name": "ipython",
    "version": 3
   },
   "file_extension": ".py",
   "mimetype": "text/x-python",
   "name": "python",
   "nbconvert_exporter": "python",
   "pygments_lexer": "ipython3",
   "version": "3.11.4"
  }
 },
 "nbformat": 4,
 "nbformat_minor": 5
}
