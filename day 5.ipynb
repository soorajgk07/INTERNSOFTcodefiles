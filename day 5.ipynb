{
 "cells": [
  {
   "cell_type": "markdown",
   "id": "74a527a1-7e02-4eeb-94fa-dad932f181ac",
   "metadata": {},
   "source": [
    "**Modules and packages**"
   ]
  },
  {
   "cell_type": "code",
   "execution_count": null,
   "id": "80e6a904-edb9-4636-9669-55429d41321c",
   "metadata": {},
   "outputs": [],
   "source": [
    "#import the library\n",
    "import math"
   ]
  },
  {
   "cell_type": "code",
   "execution_count": null,
   "id": "87a50c70-e63f-4849-80b1-84a3008c850a",
   "metadata": {},
   "outputs": [],
   "source": [
    " #ceil(rounding)\n",
    "math.ceil(2.4)"
   ]
  },
  {
   "cell_type": "markdown",
   "id": "1d28e888-c762-46f6-a1d4-aa99f7e532ec",
   "metadata": {},
   "source": [
    "**Exploring built-in modules**"
   ]
  },
  {
   "cell_type": "code",
   "execution_count": null,
   "id": "5511da3c-47aa-4f73-b3b6-307b814ec9c5",
   "metadata": {},
   "outputs": [],
   "source": [
    "print(dir(math))"
   ]
  },
  {
   "cell_type": "code",
   "execution_count": null,
   "id": "7f783576-844e-4c49-812b-07a9bf6d6bd8",
   "metadata": {},
   "outputs": [],
   "source": [
    "help(math.comb)"
   ]
  },
  {
   "cell_type": "code",
   "execution_count": null,
   "id": "269083bb-801d-45b6-8b63-687574b68e7b",
   "metadata": {},
   "outputs": [],
   "source": [
    "#example,wont work\n",
    "import foo.bar"
   ]
  },
  {
   "cell_type": "code",
   "execution_count": null,
   "id": "8075d569-6077-4dbf-947d-600e570bb2c5",
   "metadata": {},
   "outputs": [],
   "source": [
    "#Or could do it this way\n",
    "from foo import bar\n"
   ]
  },
  {
   "cell_type": "code",
   "execution_count": null,
   "id": "294101d0-ce6d-4d0a-af83-fada2046d353",
   "metadata": {},
   "outputs": [],
   "source": [
    "__init__.py:\n",
    "__all__=[\"bar\"]"
   ]
  },
  {
   "cell_type": "markdown",
   "id": "0c3c00ac-a14d-4104-bdf2-12cff99807da",
   "metadata": {},
   "source": [
    "**Errors and Exception Handling**"
   ]
  },
  {
   "cell_type": "code",
   "execution_count": null,
   "id": "3f948597-d836-461f-9a7f-8fc88fe4e4b4",
   "metadata": {},
   "outputs": [],
   "source": [
    "try:\n",
    "    f=open('testfile','w')\n",
    "    f.write('Test write this')\n",
    "except IOError:\n",
    "#this will only check for an IOError exception and then execute this print statement\n",
    "    print(\"Error: Could not find file or read data\")\n",
    "else:\n",
    "    print(\"Content written successfully\")\n",
    "    f.close()"
   ]
  },
  {
   "cell_type": "code",
   "execution_count": null,
   "id": "98d4daf6-1597-4d09-9dfe-bcae53d69fd4",
   "metadata": {},
   "outputs": [],
   "source": [
    "try:\n",
    "    f=open('testfile','r')\n",
    "    f.write('Test write this')\n",
    "except IOError:\n",
    "#this will only check for an IOError exception and then execute this print statement\n",
    "    print(\"Error: Could not find file or read data\")\n",
    "else:\n",
    "    print(\"Content written successfully\")\n",
    "    f.close()"
   ]
  },
  {
   "cell_type": "code",
   "execution_count": null,
   "id": "1e9743a1-113e-4e2a-a4c4-76c6214f4f37",
   "metadata": {},
   "outputs": [],
   "source": [
    "try:\n",
    "    f=open(\"testfile\",\"w\")\n",
    "    f.write(\"Test write statement\")\n",
    "finally:\n",
    "    print(\"Always execute finally code blocks\")"
   ]
  },
  {
   "cell_type": "code",
   "execution_count": null,
   "id": "cf7788f8-6d28-414c-b111-b29ae8c93a18",
   "metadata": {},
   "outputs": [],
   "source": [
    "def askint():\n",
    "        try:\n",
    "            val=int(input(\"please enter an integer: \"))\n",
    "        except:\n",
    "            print(\"Looks like you did not enter an integer!\")\n",
    "        finally:\n",
    "            print(\"Finally, I executed!\")\n",
    "            print(val)"
   ]
  },
  {
   "cell_type": "code",
   "execution_count": null,
   "id": "404ad034-71ca-4ff0-9326-2d9376384b19",
   "metadata": {},
   "outputs": [],
   "source": [
    " askint()"
   ]
  },
  {
   "cell_type": "markdown",
   "id": "23f8361b-8ce6-48c4-be31-dcdec1cb74ef",
   "metadata": {},
   "source": [
    "**Database connectivity and opertions using python**\n"
   ]
  },
  {
   "cell_type": "code",
   "execution_count": 6,
   "id": "5c5e9c3c-e60f-482b-8a0b-f2713dffa9b1",
   "metadata": {},
   "outputs": [],
   "source": [
    "import sqlite3\n",
    "\n",
    "# Connecting to the database (with a timeout to avoid locking issues)\n",
    "db = sqlite3.connect(\"my_database1.db\", timeout=10)\n",
    "\n",
    "# Drop the table if it exists\n",
    "db.execute(\"DROP TABLE IF EXISTS grades1\")\n",
    "\n",
    "# Create the table\n",
    "db.execute(\"CREATE TABLE grades1(id INT, name TEXT, score INT)\")\n",
    "\n",
    "# Insert values into the table\n",
    "db.execute(\"INSERT INTO grades1(id, name, score) VALUES(101, 'John', 99)\")\n",
    "db.execute(\"INSERT INTO grades1(id, name, score) VALUES(102, 'Gary', 90)\")\n",
    "db.execute(\"INSERT INTO grades1(id, name, score) VALUES(103, 'James', 89)\")\n",
    "db.execute(\"INSERT INTO grades1(id, name, score) VALUES(104, 'Cathy', 85)\")\n",
    "db.execute(\"INSERT INTO grades1(id, name, score) VALUES(105, 'Kris', 95)\")\n",
    "\n",
    "# Commit the changes to the database\n",
    "db.commit()\n",
    "\n"
   ]
  },
  {
   "cell_type": "code",
   "execution_count": 8,
   "id": "1ccfef9d-f441-4f9d-9862-00984711e343",
   "metadata": {},
   "outputs": [
    {
     "name": "stdout",
     "output_type": "stream",
     "text": [
      "(101, 'John', 99)\n",
      "(102, 'Gary', 90)\n",
      "(103, 'James', 89)\n",
      "(104, 'Cathy', 85)\n",
      "(105, 'Kris', 95)\n",
      "------------------------------------------------------------\n"
     ]
    }
   ],
   "source": [
    "results=db.execute(\"select* from grades1 order by id\")\n",
    "for row in results:\n",
    "    print(row)\n",
    "print(\"-\" * 60)"
   ]
  },
  {
   "cell_type": "code",
   "execution_count": 9,
   "id": "abccb8e6-46c8-436e-ae24-a520f8090523",
   "metadata": {},
   "outputs": [
    {
     "name": "stdout",
     "output_type": "stream",
     "text": [
      "(102, 'Gary', 90)\n",
      "------------------------------------------------------------\n"
     ]
    }
   ],
   "source": [
    "results=db.execute(\"select* from grades1 where name = 'Gary' \")\n",
    "for row in results:\n",
    "    print(row)\n",
    "print(\"-\" * 60)"
   ]
  },
  {
   "cell_type": "code",
   "execution_count": 10,
   "id": "f474c146-8a27-418b-acc2-7bd9a8d1db7c",
   "metadata": {},
   "outputs": [
    {
     "name": "stdout",
     "output_type": "stream",
     "text": [
      "(101, 'John', 99)\n",
      "(102, 'Gary', 90)\n",
      "(105, 'Kris', 95)\n",
      "------------------------------------------------------------\n"
     ]
    }
   ],
   "source": [
    "results=db.execute(\"select* from grades1 where score >=90 \")\n",
    "for row in results:\n",
    "    print(row)\n",
    "print(\"-\" * 60)"
   ]
  },
  {
   "cell_type": "code",
   "execution_count": 19,
   "id": "83b5dd7d-5afd-4655-8030-00f2a3f8078a",
   "metadata": {},
   "outputs": [
    {
     "name": "stdout",
     "output_type": "stream",
     "text": [
      "('John', 99)\n",
      "('Kris', 95)\n",
      "('Gary', 90)\n",
      "('James', 89)\n",
      "('Cathy', 85)\n",
      "------------------------------------------------------------\n"
     ]
    }
   ],
   "source": [
    "results=db.execute(\"select name, score from grades1 order by score desc\")\n",
    "for row in results:\n",
    "    print(row)\n",
    "print(\"-\" * 60)"
   ]
  },
  {
   "cell_type": "code",
   "execution_count": 16,
   "id": "df6fa3be-b9ec-4612-8da4-1560de3664cc",
   "metadata": {},
   "outputs": [
    {
     "name": "stdout",
     "output_type": "stream",
     "text": [
      "('Cathy', 85)\n",
      "('James', 89)\n",
      "('Gary', 90)\n",
      "('Kris', 95)\n",
      "('John', 99)\n",
      "------------------------------------------------------------\n"
     ]
    }
   ],
   "source": [
    "results=db.execute(\"select name, score from grades1 order by score\")\n",
    "for row in results:\n",
    "    print(row)\n",
    "print(\"-\" * 60)"
   ]
  },
  {
   "cell_type": "code",
   "execution_count": 18,
   "id": "b55498ec-0bb6-48b2-bf7b-ccb9e6794274",
   "metadata": {},
   "outputs": [
    {
     "name": "stdout",
     "output_type": "stream",
     "text": [
      "('Cathy', 85)\n",
      "('James', 89)\n",
      "('Gary', 90)\n",
      "('Kris', 95)\n",
      "('John', 99)\n"
     ]
    }
   ],
   "source": [
    "results=db.execute(\"select name, score from grades1 order by score\")\n",
    "for row in results:\n",
    "    print(row)\n"
   ]
  },
  {
   "cell_type": "code",
   "execution_count": null,
   "id": "ff469892-6fde-450e-9190-cb73e99e3184",
   "metadata": {},
   "outputs": [],
   "source": []
  }
 ],
 "metadata": {
  "kernelspec": {
   "display_name": "Python 3 (ipykernel)",
   "language": "python",
   "name": "python3"
  },
  "language_info": {
   "codemirror_mode": {
    "name": "ipython",
    "version": 3
   },
   "file_extension": ".py",
   "mimetype": "text/x-python",
   "name": "python",
   "nbconvert_exporter": "python",
   "pygments_lexer": "ipython3",
   "version": "3.11.4"
  }
 },
 "nbformat": 4,
 "nbformat_minor": 5
}
