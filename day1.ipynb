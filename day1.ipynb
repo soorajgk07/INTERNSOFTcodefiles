{
 "cells": [
  {
   "cell_type": "code",
   "execution_count": 1,
   "id": "14b56fa2-41dc-4df9-b254-4153b7050180",
   "metadata": {},
   "outputs": [
    {
     "data": {
      "text/plain": [
       "int"
      ]
     },
     "execution_count": 1,
     "metadata": {},
     "output_type": "execute_result"
    }
   ],
   "source": [
    "#integers\n",
    "x=1\n",
    "type(x)"
   ]
  },
  {
   "cell_type": "code",
   "execution_count": 2,
   "id": "bc4bbfa6-6d4d-4637-a714-e2fa2854d1b3",
   "metadata": {},
   "outputs": [
    {
     "data": {
      "text/plain": [
       "float"
      ]
     },
     "execution_count": 2,
     "metadata": {},
     "output_type": "execute_result"
    }
   ],
   "source": [
    "#float\n",
    "x=0.2\n",
    "type(x)"
   ]
  },
  {
   "cell_type": "code",
   "execution_count": 8,
   "id": "ee863f3d-ff70-4f95-bc0e-6f7d8111e28c",
   "metadata": {},
   "outputs": [
    {
     "name": "stdout",
     "output_type": "stream",
     "text": [
      "True\n",
      "False\n"
     ]
    },
    {
     "data": {
      "text/plain": [
       "bool"
      ]
     },
     "execution_count": 8,
     "metadata": {},
     "output_type": "execute_result"
    }
   ],
   "source": [
    "#boolean\n",
    "x=True\n",
    "y=False\n",
    "print(x)\n",
    "print(y)\n",
    "type(x)"
   ]
  },
  {
   "cell_type": "code",
   "execution_count": 9,
   "id": "b4126fd8-2bb2-4961-ab17-154351c1d013",
   "metadata": {},
   "outputs": [
    {
     "data": {
      "text/plain": [
       "str"
      ]
     },
     "execution_count": 9,
     "metadata": {},
     "output_type": "execute_result"
    }
   ],
   "source": [
    "#string\n",
    "name=\"sooraj\"\n",
    "type(name)"
   ]
  },
  {
   "cell_type": "code",
   "execution_count": 13,
   "id": "1f44dce4-f3cb-4961-a40f-f5c8961e98dc",
   "metadata": {},
   "outputs": [
    {
     "name": "stdout",
     "output_type": "stream",
     "text": [
      "(1-2j)\n",
      "1.0 -2.0\n"
     ]
    }
   ],
   "source": [
    "#complex\n",
    "x=1.0-2.0j\n",
    "type(x)\n",
    "print(x)\n",
    "print(x.real,x.imag)"
   ]
  },
  {
   "cell_type": "code",
   "execution_count": 16,
   "id": "c4ca4259-24d4-404f-9273-5679aefc16f6",
   "metadata": {},
   "outputs": [
    {
     "name": "stdout",
     "output_type": "stream",
     "text": [
      "10\n"
     ]
    },
    {
     "data": {
      "text/plain": [
       "2"
      ]
     },
     "execution_count": 16,
     "metadata": {},
     "output_type": "execute_result"
    }
   ],
   "source": [
    "#defining variables\n",
    "tenth=10\n",
    "two=2\n",
    "print(tenth)\n",
    "two"
   ]
  },
  {
   "cell_type": "code",
   "execution_count": 17,
   "id": "908ec0b5-796e-4c5c-9ba3-9d3c3d24f074",
   "metadata": {},
   "outputs": [
    {
     "data": {
      "text/plain": [
       "'ten'"
      ]
     },
     "execution_count": 17,
     "metadata": {},
     "output_type": "execute_result"
    }
   ],
   "source": [
    "#dynamic typing\n",
    "ten='ten'\n",
    "ten"
   ]
  },
  {
   "cell_type": "code",
   "execution_count": 22,
   "id": "3c447cd5-2932-4d0c-92ca-f1512e27c0b3",
   "metadata": {},
   "outputs": [
    {
     "name": "stdout",
     "output_type": "stream",
     "text": [
      "day1\n",
      "day1\n"
     ]
    }
   ],
   "source": [
    "#strong typing\n",
    "print('day'+\"1\")\n",
    "print('day'+str(1))"
   ]
  },
  {
   "cell_type": "code",
   "execution_count": 28,
   "id": "b0158269-73e6-44c6-bad6-d956b1422ab3",
   "metadata": {},
   "outputs": [
    {
     "name": "stdout",
     "output_type": "stream",
     "text": [
      "True\n",
      "False\n",
      "True\n",
      "True\n",
      "True\n",
      "False\n"
     ]
    }
   ],
   "source": [
    "#boolean expression\n",
    "print(True and True)\n",
    "print(not True)\n",
    "print(True or False)\n",
    "print(not False)\n",
    "print(True is True)\n",
    "print(True is False)\n",
    "\n"
   ]
  },
  {
   "cell_type": "code",
   "execution_count": 30,
   "id": "67e3a47d-fd27-48c9-8411-f9d42f3b76c8",
   "metadata": {},
   "outputs": [
    {
     "name": "stdout",
     "output_type": "stream",
     "text": [
      "less than 5\n"
     ]
    }
   ],
   "source": [
    "#branching(if/elif/else)\n",
    "i=3\n",
    "if i<3:\n",
    "    print('less than 3')\n",
    "if i<5:\n",
    "    print('less than 5')\n",
    "else:\n",
    "    print('5 or more')"
   ]
  },
  {
   "cell_type": "code",
   "execution_count": 31,
   "id": "1e2cc5ef-0f7e-4c10-b349-3b0c3900a730",
   "metadata": {},
   "outputs": [
    {
     "data": {
      "text/plain": [
       "[]"
      ]
     },
     "execution_count": 31,
     "metadata": {},
     "output_type": "execute_result"
    }
   ],
   "source": [
    "#list\n",
    "l=[]\n",
    "l"
   ]
  },
  {
   "cell_type": "code",
   "execution_count": 32,
   "id": "48d33f58-eb0d-4e19-a767-6ea1b83e1bb5",
   "metadata": {},
   "outputs": [
    {
     "data": {
      "text/plain": [
       "['a', 'b', 'c']"
      ]
     },
     "execution_count": 32,
     "metadata": {},
     "output_type": "execute_result"
    }
   ],
   "source": [
    "l=['a','b','c']\n",
    "l"
   ]
  },
  {
   "cell_type": "code",
   "execution_count": 42,
   "id": "16280105-a42b-45a3-a601-9954796d07c7",
   "metadata": {},
   "outputs": [
    {
     "name": "stdout",
     "output_type": "stream",
     "text": [
      "[1, 2, 'b']\n",
      "1\n",
      "56\n",
      "2\n",
      "b\n",
      "c\n"
     ]
    }
   ],
   "source": [
    "l=[1,2]\n",
    "l.append('b')\n",
    "print(l)\n",
    "l.append('c')\n",
    "l\n",
    "l.insert(1, 56)\n",
    "l\n"
   ]
  },
  {
   "cell_type": "code",
   "execution_count": 43,
   "id": "aaf6531c-3bd2-411b-945d-8a94c8ba1c3f",
   "metadata": {},
   "outputs": [
    {
     "name": "stdout",
     "output_type": "stream",
     "text": [
      "The sum is 46\n"
     ]
    }
   ],
   "source": [
    "#loops\n",
    "#program to find the sum of all numbers stored in a list\n",
    "#list of numbers\n",
    "numbers=[6,5,3,8,4,2,5,4,9]\n",
    "#variable to store the sum\n",
    "sum=0\n",
    "#iteraate over the list\n",
    "for val in numbers:\n",
    "    sum=sum+val\n",
    "#output:sum is 48\n",
    "print(\"The sum is\",sum)\n",
    "sum\n",
    "\n",
    "sum=0\n"
   ]
  },
  {
   "cell_type": "code",
   "execution_count": 1,
   "id": "b46149ee-e60c-488b-8b18-b9e07edf6976",
   "metadata": {},
   "outputs": [
    {
     "name": "stdin",
     "output_type": "stream",
     "text": [
      "Enter n:  5\n"
     ]
    },
    {
     "name": "stdout",
     "output_type": "stream",
     "text": [
      "The sum is 15\n"
     ]
    }
   ],
   "source": [
    "#program to add natural numbers upto sum=1+2+3+...+n\n",
    "#To take input from the \n",
    "#while\n",
    "n=int(input(\"Enter n: \"))\n",
    "sum=0\n",
    "i=1\n",
    "while i<=n:\n",
    "    sum=sum+i\n",
    "    i=i+1\n",
    "print(\"The sum is\",sum)\n"
   ]
  },
  {
   "cell_type": "code",
   "execution_count": 3,
   "id": "b6464d11-6aaa-426d-89dc-ca586b9d12ff",
   "metadata": {},
   "outputs": [
    {
     "name": "stdout",
     "output_type": "stream",
     "text": [
      "range(0, 10)\n"
     ]
    }
   ],
   "source": [
    "#range\n",
    "print(range(10))"
   ]
  },
  {
   "cell_type": "code",
   "execution_count": 5,
   "id": "fe8e92b8-ae57-4aaa-bd3c-057cdd77fed8",
   "metadata": {},
   "outputs": [
    {
     "name": "stdout",
     "output_type": "stream",
     "text": [
      "[0, 1, 2, 3, 4, 5, 6, 7, 8, 9]\n"
     ]
    }
   ],
   "source": [
    "print(list(range(10)))"
   ]
  },
  {
   "cell_type": "code",
   "execution_count": 6,
   "id": "1fa65cbc-0bf9-4991-b4a6-7cc87d3571bd",
   "metadata": {},
   "outputs": [
    {
     "name": "stdout",
     "output_type": "stream",
     "text": [
      "[2, 3, 4, 5, 6, 7]\n"
     ]
    }
   ],
   "source": [
    "print(list(range(2,8)))"
   ]
  },
  {
   "cell_type": "code",
   "execution_count": 7,
   "id": "62f70565-6864-452e-ab18-2acec7650c35",
   "metadata": {},
   "outputs": [
    {
     "name": "stdout",
     "output_type": "stream",
     "text": [
      "[2, 7, 12, 17]\n"
     ]
    }
   ],
   "source": [
    "print(list(range(2,20,5)))"
   ]
  },
  {
   "cell_type": "code",
   "execution_count": 10,
   "id": "b009be7f-ddf2-404d-8d82-fca86a8ed697",
   "metadata": {},
   "outputs": [
    {
     "name": "stdout",
     "output_type": "stream",
     "text": [
      "I like pop\n",
      "I like rock\n",
      "I like jazz\n",
      "I like sapna\n"
     ]
    }
   ],
   "source": [
    "#program to iterate through a list using indexing\n",
    "genre=['pop','rock','jazz','sapna']\n",
    "#iterate over the list using index\n",
    "for i in range(len(genre)):\n",
    "    print(\"I like\",genre[i])\n",
    "    \n"
   ]
  },
  {
   "cell_type": "code",
   "execution_count": 13,
   "id": "d62d4837-df3b-4305-bc54-06823d9855f9",
   "metadata": {},
   "outputs": [
    {
     "name": "stdout",
     "output_type": "stream",
     "text": [
      "h\n",
      "a\n",
      "r\n",
      "s\n",
      "h\n"
     ]
    }
   ],
   "source": [
    "#break and continue statement\n",
    "#use of break statement inside loop\n",
    "for val in \"harshitha\":\n",
    "    if val=='i':\n",
    "        break\n",
    "    print(val)\n",
    "\n"
   ]
  },
  {
   "cell_type": "code",
   "execution_count": 14,
   "id": "ffd8a449-e595-413f-8eb1-1839f1106e47",
   "metadata": {},
   "outputs": [
    {
     "name": "stdout",
     "output_type": "stream",
     "text": [
      "h\n",
      "a\n",
      "r\n",
      "s\n",
      "h\n",
      "i\n",
      "t\n",
      "a\n"
     ]
    }
   ],
   "source": [
    "#continue\n",
    "for val in 'harshita':\n",
    "    if val==\"I\":\n",
    "        continue\n",
    "    print(val)"
   ]
  },
  {
   "cell_type": "code",
   "execution_count": 15,
   "id": "7ffebb4a-97e7-48b4-a96a-0473791b28fd",
   "metadata": {},
   "outputs": [
    {
     "name": "stdin",
     "output_type": "stream",
     "text": [
      "what is your name?\n",
      " ki\n"
     ]
    },
    {
     "data": {
      "text/plain": [
       "str"
      ]
     },
     "execution_count": 15,
     "metadata": {},
     "output_type": "execute_result"
    }
   ],
   "source": [
    "#program to take the input string from the user\n",
    "name=input(\"what is your name?\\n\")\n",
    "type(name)"
   ]
  },
  {
   "cell_type": "code",
   "execution_count": 17,
   "id": "ec44093e-863e-4b07-9015-3e1567153b7c",
   "metadata": {},
   "outputs": [
    {
     "name": "stdin",
     "output_type": "stream",
     "text": [
      "what is your age? 9\n"
     ]
    },
    {
     "name": "stdout",
     "output_type": "stream",
     "text": [
      "your age is: 9\n"
     ]
    },
    {
     "data": {
      "text/plain": [
       "int"
      ]
     },
     "execution_count": 17,
     "metadata": {},
     "output_type": "execute_result"
    }
   ],
   "source": [
    "#program to read integers from user\n",
    "age=int(input(\"what is your age?\"))\n",
    "print(\"your age is:\",age)\n",
    "type(age)"
   ]
  },
  {
   "cell_type": "code",
   "execution_count": 19,
   "id": "dc31088c-3bfd-4ec1-94c8-4d736f2e4d04",
   "metadata": {},
   "outputs": [
    {
     "name": "stdin",
     "output_type": "stream",
     "text": [
      "what is your name? li\n"
     ]
    },
    {
     "name": "stdout",
     "output_type": "stream",
     "text": [
      "It was nice talking youli!\n"
     ]
    },
    {
     "name": "stdin",
     "output_type": "stream",
     "text": [
      "enter your age? 9\n"
     ]
    },
    {
     "name": "stdout",
     "output_type": "stream",
     "text": [
      "hey,you are already 9years old,li!\n"
     ]
    }
   ],
   "source": [
    "#ex2\n",
    "name=input(\"what is your name?\")\n",
    "print(\"It was nice talking you\"+name+\"!\")\n",
    "age=input(\"enter your age?\")\n",
    "print(\"hey,you are already \"+age+\"years old,\"+name+\"!\")"
   ]
  },
  {
   "cell_type": "code",
   "execution_count": null,
   "id": "8cc3347b-f873-47e3-be5a-3d92ca7ea6ff",
   "metadata": {},
   "outputs": [],
   "source": []
  }
 ],
 "metadata": {
  "kernelspec": {
   "display_name": "Python 3 (ipykernel)",
   "language": "python",
   "name": "python3"
  },
  "language_info": {
   "codemirror_mode": {
    "name": "ipython",
    "version": 3
   },
   "file_extension": ".py",
   "mimetype": "text/x-python",
   "name": "python",
   "nbconvert_exporter": "python",
   "pygments_lexer": "ipython3",
   "version": "3.11.4"
  }
 },
 "nbformat": 4,
 "nbformat_minor": 5
}
