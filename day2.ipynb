{
 "cells": [
  {
   "cell_type": "markdown",
   "id": "8b339393-709e-4c20-af52-d84fe1f4f94c",
   "metadata": {},
   "source": [
    "Strings and list object\n"
   ]
  },
  {
   "cell_type": "code",
   "execution_count": 84,
   "id": "26ee04bb-0a5d-406f-a4b5-c38e6dc432f0",
   "metadata": {},
   "outputs": [
    {
     "data": {
      "text/plain": [
       "'hello'"
      ]
     },
     "execution_count": 84,
     "metadata": {},
     "output_type": "execute_result"
    }
   ],
   "source": [
    "#single word\n",
    "str='hello'\n",
    "str"
   ]
  },
  {
   "cell_type": "code",
   "execution_count": 85,
   "id": "821f9a3c-4228-46e2-9318-1ba4e317f628",
   "metadata": {},
   "outputs": [
    {
     "data": {
      "text/plain": [
       "'This is also a string'"
      ]
     },
     "execution_count": 85,
     "metadata": {},
     "output_type": "execute_result"
    }
   ],
   "source": [
    "#entire phrase\n",
    "'This is also a string'"
   ]
  },
  {
   "cell_type": "code",
   "execution_count": 86,
   "id": "2e84eb1f-ce98-492f-baaa-252c8c46afa0",
   "metadata": {},
   "outputs": [
    {
     "data": {
      "text/plain": [
       "'string built with double quotes'"
      ]
     },
     "execution_count": 86,
     "metadata": {},
     "output_type": "execute_result"
    }
   ],
   "source": [
    "#we can also use double quote\n",
    "\"string built with double quotes\"\n"
   ]
  },
  {
   "cell_type": "code",
   "execution_count": 87,
   "id": "af76fcc0-cc33-407a-b653-f9167594d886",
   "metadata": {},
   "outputs": [
    {
     "ename": "SyntaxError",
     "evalue": "unterminated string literal (detected at line 2) (78756169.py, line 2)",
     "output_type": "error",
     "traceback": [
      "\u001b[1;36m  Cell \u001b[1;32mIn[87], line 2\u001b[1;36m\u001b[0m\n\u001b[1;33m    'I'm using single quotes,but will create an error'\u001b[0m\n\u001b[1;37m                                                     ^\u001b[0m\n\u001b[1;31mSyntaxError\u001b[0m\u001b[1;31m:\u001b[0m unterminated string literal (detected at line 2)\n"
     ]
    }
   ],
   "source": [
    "#be carefull with quotes!\n",
    "'I'm using single quotes,but will create an error'"
   ]
  },
  {
   "cell_type": "code",
   "execution_count": 88,
   "id": "0af7018a-2bc6-4d4b-9293-cb43ab9e6d55",
   "metadata": {},
   "outputs": [
    {
     "data": {
      "text/plain": [
       "\"I'm ready to use single quotes inside a string\""
      ]
     },
     "execution_count": 88,
     "metadata": {},
     "output_type": "execute_result"
    }
   ],
   "source": [
    "\"I'm ready to use single quotes inside a string\""
   ]
  },
  {
   "cell_type": "markdown",
   "id": "9614ce3b-2fc7-43f7-aeaa-982e76085b88",
   "metadata": {},
   "source": [
    "Printing a string"
   ]
  },
  {
   "cell_type": "code",
   "execution_count": 89,
   "id": "660f0858-05aa-4a98-bf9f-dd8ce935e56b",
   "metadata": {},
   "outputs": [
    {
     "data": {
      "text/plain": [
       "'hello world 1'"
      ]
     },
     "execution_count": 89,
     "metadata": {},
     "output_type": "execute_result"
    }
   ],
   "source": [
    "#we can simply declare a string\n",
    "'hello world 1'\n"
   ]
  },
  {
   "cell_type": "code",
   "execution_count": 90,
   "id": "4e89b12f-4fdf-43b0-b4ee-5408dee13389",
   "metadata": {},
   "outputs": [
    {
     "data": {
      "text/plain": [
       "'hello world 2'"
      ]
     },
     "execution_count": 90,
     "metadata": {},
     "output_type": "execute_result"
    }
   ],
   "source": [
    "#cant declare multiple strings\n",
    "'hello world 1'\n",
    "'hello world 2'\n"
   ]
  },
  {
   "cell_type": "markdown",
   "id": "579315f3-2090-423f-8ec2-efc052639304",
   "metadata": {},
   "source": [
    "String Basics"
   ]
  },
  {
   "cell_type": "code",
   "execution_count": 91,
   "id": "930ebd5c-0720-486e-9940-3131b67de2cb",
   "metadata": {},
   "outputs": [
    {
     "data": {
      "text/plain": [
       "11"
      ]
     },
     "execution_count": 91,
     "metadata": {},
     "output_type": "execute_result"
    }
   ],
   "source": [
    "len('hello world')"
   ]
  },
  {
   "cell_type": "markdown",
   "id": "641b822f-8ab9-4162-a2a7-89332614d23d",
   "metadata": {},
   "source": [
    "String Indexing"
   ]
  },
  {
   "cell_type": "code",
   "execution_count": 92,
   "id": "0db87fe0-968f-467c-9953-81bd099baaf8",
   "metadata": {},
   "outputs": [],
   "source": [
    "#assign s as a string\n",
    "s='Hello World'"
   ]
  },
  {
   "cell_type": "code",
   "execution_count": 93,
   "id": "da4918e7-9145-4c16-b3a0-096e1ec88d48",
   "metadata": {},
   "outputs": [
    {
     "data": {
      "text/plain": [
       "'Hello World'"
      ]
     },
     "execution_count": 93,
     "metadata": {},
     "output_type": "execute_result"
    }
   ],
   "source": [
    "#check\n",
    "s"
   ]
  },
  {
   "cell_type": "code",
   "execution_count": 94,
   "id": "c2e01e73-79db-4229-93f1-3a35aecf2448",
   "metadata": {},
   "outputs": [
    {
     "name": "stdout",
     "output_type": "stream",
     "text": [
      "Hello World\n"
     ]
    }
   ],
   "source": [
    "#print the object\n",
    "print(s)"
   ]
  },
  {
   "cell_type": "code",
   "execution_count": 95,
   "id": "581a2dbd-05ce-41e9-94f6-6bf865bb77a9",
   "metadata": {},
   "outputs": [
    {
     "data": {
      "text/plain": [
       "'H'"
      ]
     },
     "execution_count": 95,
     "metadata": {},
     "output_type": "execute_result"
    }
   ],
   "source": [
    "#show first element\n",
    "s[0]"
   ]
  },
  {
   "cell_type": "code",
   "execution_count": 96,
   "id": "47e29a29-b4b8-4d67-bb6c-3533d1cf2127",
   "metadata": {},
   "outputs": [
    {
     "data": {
      "text/plain": [
       "'e'"
      ]
     },
     "execution_count": 96,
     "metadata": {},
     "output_type": "execute_result"
    }
   ],
   "source": [
    "s[1]"
   ]
  },
  {
   "cell_type": "code",
   "execution_count": 97,
   "id": "86825d0a-9b25-4cb4-88ff-2c25984bf52f",
   "metadata": {},
   "outputs": [
    {
     "data": {
      "text/plain": [
       "'l'"
      ]
     },
     "execution_count": 97,
     "metadata": {},
     "output_type": "execute_result"
    }
   ],
   "source": [
    "s[2]"
   ]
  },
  {
   "cell_type": "code",
   "execution_count": 98,
   "id": "ac8c9a74-241d-4445-9c8c-9fdd1481a2b5",
   "metadata": {},
   "outputs": [
    {
     "data": {
      "text/plain": [
       "'ello World'"
      ]
     },
     "execution_count": 98,
     "metadata": {},
     "output_type": "execute_result"
    }
   ],
   "source": [
    "#Grab everything past the first term all the way to the length of s which is len(s)\n",
    "s[1:]"
   ]
  },
  {
   "cell_type": "code",
   "execution_count": 99,
   "id": "1a4d4cf5-f2cf-47d9-8b87-e956b0661eed",
   "metadata": {},
   "outputs": [
    {
     "data": {
      "text/plain": [
       "'Hello World'"
      ]
     },
     "execution_count": 99,
     "metadata": {},
     "output_type": "execute_result"
    }
   ],
   "source": [
    "s"
   ]
  },
  {
   "cell_type": "code",
   "execution_count": 100,
   "id": "380984cb-c9aa-45e3-95f9-fb21945c11f5",
   "metadata": {},
   "outputs": [
    {
     "data": {
      "text/plain": [
       "'Hel'"
      ]
     },
     "execution_count": 100,
     "metadata": {},
     "output_type": "execute_result"
    }
   ],
   "source": [
    "#grab everything upto the 3rd index\n",
    "s[:3]"
   ]
  },
  {
   "cell_type": "code",
   "execution_count": 101,
   "id": "1e0a4613-f6fe-420d-a60f-3b587fca5d50",
   "metadata": {},
   "outputs": [
    {
     "data": {
      "text/plain": [
       "'Hello World'"
      ]
     },
     "execution_count": 101,
     "metadata": {},
     "output_type": "execute_result"
    }
   ],
   "source": [
    "#everything\n",
    "s[:]"
   ]
  },
  {
   "cell_type": "code",
   "execution_count": 102,
   "id": "a6da565e-1356-4afd-8208-303385ff19d6",
   "metadata": {},
   "outputs": [
    {
     "data": {
      "text/plain": [
       "'d'"
      ]
     },
     "execution_count": 102,
     "metadata": {},
     "output_type": "execute_result"
    }
   ],
   "source": [
    "#last letter\n",
    "s[-1]"
   ]
  },
  {
   "cell_type": "code",
   "execution_count": 103,
   "id": "4cf27eff-7c41-4a17-81fe-0f4f2d7cd510",
   "metadata": {},
   "outputs": [
    {
     "data": {
      "text/plain": [
       "'Hello Worl'"
      ]
     },
     "execution_count": 103,
     "metadata": {},
     "output_type": "execute_result"
    }
   ],
   "source": [
    "#grab everything but last letter\n",
    "s[:-1]"
   ]
  },
  {
   "cell_type": "code",
   "execution_count": 104,
   "id": "84d9df27-57a9-4c80-a599-87bfbd4e4d40",
   "metadata": {},
   "outputs": [
    {
     "data": {
      "text/plain": [
       "'Hello World'"
      ]
     },
     "execution_count": 104,
     "metadata": {},
     "output_type": "execute_result"
    }
   ],
   "source": [
    "#grab everything but go in steps size of 1\n",
    "s[::1]"
   ]
  },
  {
   "cell_type": "code",
   "execution_count": 105,
   "id": "27a7736e-d486-4b22-9725-8286199449f1",
   "metadata": {},
   "outputs": [
    {
     "data": {
      "text/plain": [
       "'HloWrd'"
      ]
     },
     "execution_count": 105,
     "metadata": {},
     "output_type": "execute_result"
    }
   ],
   "source": [
    "#grab everything but go in steps size of 2\n",
    "s[::2]"
   ]
  },
  {
   "cell_type": "code",
   "execution_count": 106,
   "id": "2b58a92f-774a-40c4-ab75-ad25e1444e4b",
   "metadata": {},
   "outputs": [
    {
     "data": {
      "text/plain": [
       "'dlroW olleH'"
      ]
     },
     "execution_count": 106,
     "metadata": {},
     "output_type": "execute_result"
    }
   ],
   "source": [
    "#print string backwards\n",
    "s[::-1]"
   ]
  },
  {
   "cell_type": "markdown",
   "id": "022f7166-1594-40b9-82b8-daf52b2f3dd8",
   "metadata": {},
   "source": [
    "String properties"
   ]
  },
  {
   "cell_type": "code",
   "execution_count": 107,
   "id": "f57ab264-457d-430a-97f6-442cbdfcd6d2",
   "metadata": {},
   "outputs": [
    {
     "data": {
      "text/plain": [
       "'Hello World'"
      ]
     },
     "execution_count": 107,
     "metadata": {},
     "output_type": "execute_result"
    }
   ],
   "source": [
    "s"
   ]
  },
  {
   "cell_type": "code",
   "execution_count": 108,
   "id": "42f86e94-b9c1-4b53-a5e1-4757293676ba",
   "metadata": {},
   "outputs": [
    {
     "ename": "TypeError",
     "evalue": "'str' object does not support item assignment",
     "output_type": "error",
     "traceback": [
      "\u001b[1;31m---------------------------------------------------------------------------\u001b[0m",
      "\u001b[1;31mTypeError\u001b[0m                                 Traceback (most recent call last)",
      "Cell \u001b[1;32mIn[108], line 2\u001b[0m\n\u001b[0;32m      1\u001b[0m \u001b[38;5;66;03m#lets try to change the first element to X\u001b[39;00m\n\u001b[1;32m----> 2\u001b[0m \u001b[43ms\u001b[49m\u001b[43m[\u001b[49m\u001b[38;5;241;43m0\u001b[39;49m\u001b[43m]\u001b[49m\u001b[38;5;241m=\u001b[39m\u001b[38;5;124m'\u001b[39m\u001b[38;5;124mX\u001b[39m\u001b[38;5;124m'\u001b[39m\n",
      "\u001b[1;31mTypeError\u001b[0m: 'str' object does not support item assignment"
     ]
    }
   ],
   "source": [
    "#lets try to change the first element to X\n",
    "s[0]='X'"
   ]
  },
  {
   "cell_type": "code",
   "execution_count": 109,
   "id": "3599371a-450e-463a-952e-95438b72eebc",
   "metadata": {},
   "outputs": [
    {
     "data": {
      "text/plain": [
       "'Hello World'"
      ]
     },
     "execution_count": 109,
     "metadata": {},
     "output_type": "execute_result"
    }
   ],
   "source": [
    "s"
   ]
  },
  {
   "cell_type": "code",
   "execution_count": 110,
   "id": "bed719aa-3a6f-4318-9e75-2ece3aa784ca",
   "metadata": {},
   "outputs": [
    {
     "ename": "SyntaxError",
     "evalue": "unterminated string literal (detected at line 2) (530948460.py, line 2)",
     "output_type": "error",
     "traceback": [
      "\u001b[1;36m  Cell \u001b[1;32mIn[110], line 2\u001b[1;36m\u001b[0m\n\u001b[1;33m    s + ' concatenate me\u001b[0m\n\u001b[1;37m        ^\u001b[0m\n\u001b[1;31mSyntaxError\u001b[0m\u001b[1;31m:\u001b[0m unterminated string literal (detected at line 2)\n"
     ]
    }
   ],
   "source": [
    "#concatenate strings\n",
    "s + ' concatenate me"
   ]
  },
  {
   "cell_type": "code",
   "execution_count": 111,
   "id": "aaf8734e-e5aa-46e0-af9f-c7e35a67d3c3",
   "metadata": {},
   "outputs": [],
   "source": [
    "#we can reassign s completely though!\n",
    "s = s + ' concatenate me!'"
   ]
  },
  {
   "cell_type": "code",
   "execution_count": 112,
   "id": "339efbba-3a09-4228-b8a0-27c8ae7ce316",
   "metadata": {},
   "outputs": [
    {
     "name": "stdout",
     "output_type": "stream",
     "text": [
      "Hello World concatenate me!\n"
     ]
    }
   ],
   "source": [
    "print(s)"
   ]
  },
  {
   "cell_type": "code",
   "execution_count": 113,
   "id": "4c5d9554-4470-4ee5-9409-d0c6fc3e0f40",
   "metadata": {},
   "outputs": [],
   "source": [
    "letter='z'"
   ]
  },
  {
   "cell_type": "code",
   "execution_count": 114,
   "id": "4693b1a7-efd3-4ced-8d73-942c9407dedd",
   "metadata": {},
   "outputs": [
    {
     "data": {
      "text/plain": [
       "'zzzzzzzzzz'"
      ]
     },
     "execution_count": 114,
     "metadata": {},
     "output_type": "execute_result"
    }
   ],
   "source": [
    "letter*10"
   ]
  },
  {
   "cell_type": "markdown",
   "id": "8f631687-65b8-4815-ada0-bb376b0ee686",
   "metadata": {},
   "source": [
    " Basic built-in string methods"
   ]
  },
  {
   "cell_type": "code",
   "execution_count": 115,
   "id": "073ffc18-b059-4d1f-baf6-5f53a1b16f8d",
   "metadata": {},
   "outputs": [
    {
     "data": {
      "text/plain": [
       "'Hello World concatenate me!'"
      ]
     },
     "execution_count": 115,
     "metadata": {},
     "output_type": "execute_result"
    }
   ],
   "source": [
    "s"
   ]
  },
  {
   "cell_type": "code",
   "execution_count": 116,
   "id": "59e72181-2668-47bb-9095-8363f77321f5",
   "metadata": {},
   "outputs": [
    {
     "data": {
      "text/plain": [
       "'HELLO WORLD CONCATENATE ME!'"
      ]
     },
     "execution_count": 116,
     "metadata": {},
     "output_type": "execute_result"
    }
   ],
   "source": [
    "#upper case a string\n",
    "s.upper()"
   ]
  },
  {
   "cell_type": "code",
   "execution_count": 117,
   "id": "7e335829-d172-479c-a847-97cfc7ea9a69",
   "metadata": {},
   "outputs": [
    {
     "data": {
      "text/plain": [
       "'hello world concatenate me!'"
      ]
     },
     "execution_count": 117,
     "metadata": {},
     "output_type": "execute_result"
    }
   ],
   "source": [
    "#lower case\n",
    "s.lower()"
   ]
  },
  {
   "cell_type": "code",
   "execution_count": 118,
   "id": "0c298239-e6a6-4a25-a87e-3b3815719a50",
   "metadata": {},
   "outputs": [
    {
     "data": {
      "text/plain": [
       "['Hello', 'World', 'concatenate', 'me!']"
      ]
     },
     "execution_count": 118,
     "metadata": {},
     "output_type": "execute_result"
    }
   ],
   "source": [
    "#split a string by default\n",
    "s.split()"
   ]
  },
  {
   "cell_type": "code",
   "execution_count": 119,
   "id": "241464b8-3dab-4cd4-8d7a-fd98afa583cc",
   "metadata": {},
   "outputs": [
    {
     "data": {
      "text/plain": [
       "['Hell', ' W', 'rld c', 'ncatenate me!']"
      ]
     },
     "execution_count": 119,
     "metadata": {},
     "output_type": "execute_result"
    }
   ],
   "source": [
    "#split by a specific element\n",
    "s.split('o')"
   ]
  },
  {
   "cell_type": "markdown",
   "id": "0053e4be-62c6-4e99-a9c9-d99ac65d2afb",
   "metadata": {},
   "source": [
    "Print Formatting"
   ]
  },
  {
   "cell_type": "code",
   "execution_count": 120,
   "id": "7786d55d-6941-4d84-9fc5-35c22a5d3bbc",
   "metadata": {},
   "outputs": [
    {
     "data": {
      "text/plain": [
       "\"Insert another string with curly brackets:{'The inserted string'}\""
      ]
     },
     "execution_count": 120,
     "metadata": {},
     "output_type": "execute_result"
    }
   ],
   "source": [
    "'Insert another string with curly brackets:{}'.format({'The inserted string'})"
   ]
  },
  {
   "cell_type": "markdown",
   "id": "2b56d6cb-9f65-44b7-88bb-f88d41d1594a",
   "metadata": {},
   "source": [
    "Location and Counting"
   ]
  },
  {
   "cell_type": "code",
   "execution_count": 121,
   "id": "5b2476d9-4766-48e5-9001-9a22561fae38",
   "metadata": {},
   "outputs": [
    {
     "name": "stdout",
     "output_type": "stream",
     "text": [
      "Hello World concatenate me!\n"
     ]
    },
    {
     "data": {
      "text/plain": [
       "3"
      ]
     },
     "execution_count": 121,
     "metadata": {},
     "output_type": "execute_result"
    }
   ],
   "source": [
    "print(s)\n",
    "s.count('o')"
   ]
  },
  {
   "cell_type": "code",
   "execution_count": 122,
   "id": "b08738b8-eb54-4345-ad62-fbb4fe60ee48",
   "metadata": {},
   "outputs": [
    {
     "data": {
      "text/plain": [
       "4"
      ]
     },
     "execution_count": 122,
     "metadata": {},
     "output_type": "execute_result"
    }
   ],
   "source": [
    "s.find('o')"
   ]
  },
  {
   "cell_type": "code",
   "execution_count": 124,
   "id": "07828e0b-df62-4cb0-ae71-3aa16f47cbcf",
   "metadata": {},
   "outputs": [
    {
     "data": {
      "text/plain": [
       "'zzzzzzzzzzzzzzzzHello World concatenate me!zzzzzzzzzzzzzzzzz'"
      ]
     },
     "execution_count": 124,
     "metadata": {},
     "output_type": "execute_result"
    }
   ],
   "source": [
    "s.center(60,'z')"
   ]
  },
  {
   "cell_type": "code",
   "execution_count": 126,
   "id": "a74267b5-491f-4f80-be9d-be8004db3ed1",
   "metadata": {},
   "outputs": [
    {
     "data": {
      "text/plain": [
       "'hello   hi'"
      ]
     },
     "execution_count": 126,
     "metadata": {},
     "output_type": "execute_result"
    }
   ],
   "source": [
    "'hello\\thi'.expandtabs()"
   ]
  },
  {
   "cell_type": "markdown",
   "id": "0ad84c09-4742-4b6e-ae6f-0da140f0009d",
   "metadata": {},
   "source": [
    "is Check methods"
   ]
  },
  {
   "cell_type": "code",
   "execution_count": 127,
   "id": "298b20ae-fa07-483e-ba4d-22e8a4062897",
   "metadata": {},
   "outputs": [],
   "source": [
    "s='hello'"
   ]
  },
  {
   "cell_type": "code",
   "execution_count": 128,
   "id": "c9edb5a2-2640-4cfe-ae19-9e2a213bc1de",
   "metadata": {},
   "outputs": [
    {
     "data": {
      "text/plain": [
       "True"
      ]
     },
     "execution_count": 128,
     "metadata": {},
     "output_type": "execute_result"
    }
   ],
   "source": [
    "s.isalnum()"
   ]
  },
  {
   "cell_type": "code",
   "execution_count": 129,
   "id": "d84bcb77-0021-49f2-84c3-ad8491e4d510",
   "metadata": {},
   "outputs": [
    {
     "data": {
      "text/plain": [
       "True"
      ]
     },
     "execution_count": 129,
     "metadata": {},
     "output_type": "execute_result"
    }
   ],
   "source": [
    "s.isalpha()"
   ]
  },
  {
   "cell_type": "code",
   "execution_count": 130,
   "id": "49e4f07c-0da4-4347-980d-78f567bd54d3",
   "metadata": {},
   "outputs": [
    {
     "data": {
      "text/plain": [
       "True"
      ]
     },
     "execution_count": 130,
     "metadata": {},
     "output_type": "execute_result"
    }
   ],
   "source": [
    "s.islower()"
   ]
  },
  {
   "cell_type": "code",
   "execution_count": 132,
   "id": "9c7ca401-e733-4fc4-ae06-f2cf78a4e5ec",
   "metadata": {},
   "outputs": [
    {
     "data": {
      "text/plain": [
       "False"
      ]
     },
     "execution_count": 132,
     "metadata": {},
     "output_type": "execute_result"
    }
   ],
   "source": [
    "s.isspace()"
   ]
  },
  {
   "cell_type": "code",
   "execution_count": 133,
   "id": "6a4bf5d4-3e56-4461-9c19-a244e7689b90",
   "metadata": {},
   "outputs": [
    {
     "data": {
      "text/plain": [
       "False"
      ]
     },
     "execution_count": 133,
     "metadata": {},
     "output_type": "execute_result"
    }
   ],
   "source": [
    "s.istitle()"
   ]
  },
  {
   "cell_type": "code",
   "execution_count": 134,
   "id": "49dec3e7-36a9-46a0-bcb5-359cdd3fa2d7",
   "metadata": {},
   "outputs": [
    {
     "data": {
      "text/plain": [
       "False"
      ]
     },
     "execution_count": 134,
     "metadata": {},
     "output_type": "execute_result"
    }
   ],
   "source": [
    "s.isupper()"
   ]
  },
  {
   "cell_type": "code",
   "execution_count": 135,
   "id": "33a38294-b94c-4a29-a193-bbbe9b5d8f4c",
   "metadata": {},
   "outputs": [
    {
     "data": {
      "text/plain": [
       "True"
      ]
     },
     "execution_count": 135,
     "metadata": {},
     "output_type": "execute_result"
    }
   ],
   "source": [
    "s.endswith('o')"
   ]
  },
  {
   "cell_type": "markdown",
   "id": "ba35b0f4-34f4-42c7-bb7b-5405913d9281",
   "metadata": {},
   "source": [
    "**Built-in Reg.Expressions**"
   ]
  },
  {
   "cell_type": "code",
   "execution_count": 136,
   "id": "686ac44c-b186-4c10-a856-a52b334996aa",
   "metadata": {},
   "outputs": [
    {
     "data": {
      "text/plain": [
       "['h', 'llo']"
      ]
     },
     "execution_count": 136,
     "metadata": {},
     "output_type": "execute_result"
    }
   ],
   "source": [
    "s.split('e')\n"
   ]
  },
  {
   "cell_type": "code",
   "execution_count": 137,
   "id": "19209f37-7108-49d4-b75c-bf7fd8a2f188",
   "metadata": {},
   "outputs": [
    {
     "data": {
      "text/plain": [
       "('h', 'e', 'llo')"
      ]
     },
     "execution_count": 137,
     "metadata": {},
     "output_type": "execute_result"
    }
   ],
   "source": [
    "s.partition('e')"
   ]
  },
  {
   "cell_type": "code",
   "execution_count": 138,
   "id": "a08a4df1-0495-4a1b-86be-24d725dd84e4",
   "metadata": {},
   "outputs": [
    {
     "data": {
      "text/plain": [
       "'hello'"
      ]
     },
     "execution_count": 138,
     "metadata": {},
     "output_type": "execute_result"
    }
   ],
   "source": [
    "s"
   ]
  },
  {
   "cell_type": "markdown",
   "id": "6733a8bc-66c2-4bd1-aca6-fc226a93019e",
   "metadata": {},
   "source": [
    "**Lists**"
   ]
  },
  {
   "cell_type": "code",
   "execution_count": 139,
   "id": "6183eec1-39e8-4ef2-a4dc-b243f6049f8e",
   "metadata": {},
   "outputs": [],
   "source": [
    "#Assign a list to an variable named my_list\n",
    "my_list=[1,2,3]"
   ]
  },
  {
   "cell_type": "code",
   "execution_count": 140,
   "id": "9d202602-5a05-4272-be4e-339a6017b88d",
   "metadata": {},
   "outputs": [
    {
     "data": {
      "text/plain": [
       "['A string', 23, 100.232, 'o']"
      ]
     },
     "execution_count": 140,
     "metadata": {},
     "output_type": "execute_result"
    }
   ],
   "source": [
    "my_list=['A string',23,100.232,'o']\n",
    "my_list"
   ]
  },
  {
   "cell_type": "code",
   "execution_count": 141,
   "id": "57662ef3-abbb-4694-a19a-23e30e112b40",
   "metadata": {},
   "outputs": [
    {
     "data": {
      "text/plain": [
       "4"
      ]
     },
     "execution_count": 141,
     "metadata": {},
     "output_type": "execute_result"
    }
   ],
   "source": [
    "len(my_list)"
   ]
  },
  {
   "cell_type": "markdown",
   "id": "2dc319c7-2224-4bbd-bd85-0eb28bd7d3be",
   "metadata": {},
   "source": [
    "**Indexing and slicing**"
   ]
  },
  {
   "cell_type": "code",
   "execution_count": 142,
   "id": "a59555ce-5f49-4bbf-9f18-69ab581fd89c",
   "metadata": {},
   "outputs": [],
   "source": [
    "my_list=['one','two','three',4,5]"
   ]
  },
  {
   "cell_type": "code",
   "execution_count": 143,
   "id": "4e4dab7e-934c-4a7f-bb89-1d9a05bf94a8",
   "metadata": {},
   "outputs": [
    {
     "data": {
      "text/plain": [
       "'one'"
      ]
     },
     "execution_count": 143,
     "metadata": {},
     "output_type": "execute_result"
    }
   ],
   "source": [
    "#grab element at index 0\n",
    "my_list[0]"
   ]
  },
  {
   "cell_type": "code",
   "execution_count": 145,
   "id": "00e83f18-eb9e-44ca-9d4e-f72af32c5b8c",
   "metadata": {},
   "outputs": [
    {
     "data": {
      "text/plain": [
       "['two', 'three', 4, 5]"
      ]
     },
     "execution_count": 145,
     "metadata": {},
     "output_type": "execute_result"
    }
   ],
   "source": [
    "#grab index 1 and everything past it\n",
    "my_list[1:]"
   ]
  },
  {
   "cell_type": "code",
   "execution_count": 146,
   "id": "d5b9e945-bc46-4ff4-82a3-ca59d0ba2c24",
   "metadata": {},
   "outputs": [
    {
     "data": {
      "text/plain": [
       "['one', 'two', 'three']"
      ]
     },
     "execution_count": 146,
     "metadata": {},
     "output_type": "execute_result"
    }
   ],
   "source": [
    "#grab everything upto index 3\n",
    "my_list[:3]"
   ]
  },
  {
   "cell_type": "code",
   "execution_count": 147,
   "id": "037ce96b-d2f4-46e3-a271-19302b7f2ad8",
   "metadata": {},
   "outputs": [
    {
     "data": {
      "text/plain": [
       "['one', 'two', 'three', 4, 5, 'new item']"
      ]
     },
     "execution_count": 147,
     "metadata": {},
     "output_type": "execute_result"
    }
   ],
   "source": [
    "my_list+['new item']"
   ]
  },
  {
   "cell_type": "code",
   "execution_count": 148,
   "id": "17ddca2d-71a3-49b9-a950-87d33e99dcfb",
   "metadata": {},
   "outputs": [
    {
     "data": {
      "text/plain": [
       "['one', 'two', 'three', 4, 5]"
      ]
     },
     "execution_count": 148,
     "metadata": {},
     "output_type": "execute_result"
    }
   ],
   "source": [
    "my_list"
   ]
  },
  {
   "cell_type": "code",
   "execution_count": 149,
   "id": "43a033a5-c634-4506-9f3f-8b965b03a60a",
   "metadata": {},
   "outputs": [],
   "source": [
    "#reassign\n",
    "my_list=my_list+['add new item permanently']\n"
   ]
  },
  {
   "cell_type": "code",
   "execution_count": 150,
   "id": "bf6c684b-5128-4f69-a81f-7d86dbdffcdc",
   "metadata": {},
   "outputs": [
    {
     "data": {
      "text/plain": [
       "['one', 'two', 'three', 4, 5, 'add new item permanently']"
      ]
     },
     "execution_count": 150,
     "metadata": {},
     "output_type": "execute_result"
    }
   ],
   "source": [
    "my_list"
   ]
  },
  {
   "cell_type": "code",
   "execution_count": 151,
   "id": "b9c14e4d-6825-466a-9974-f4e621260aeb",
   "metadata": {},
   "outputs": [
    {
     "data": {
      "text/plain": [
       "['one',\n",
       " 'two',\n",
       " 'three',\n",
       " 4,\n",
       " 5,\n",
       " 'add new item permanently',\n",
       " 'one',\n",
       " 'two',\n",
       " 'three',\n",
       " 4,\n",
       " 5,\n",
       " 'add new item permanently']"
      ]
     },
     "execution_count": 151,
     "metadata": {},
     "output_type": "execute_result"
    }
   ],
   "source": [
    "#make the list double\n",
    "my_list*2"
   ]
  },
  {
   "cell_type": "code",
   "execution_count": 152,
   "id": "a0b4aed7-a1d1-4259-b466-aca16f992598",
   "metadata": {},
   "outputs": [
    {
     "data": {
      "text/plain": [
       "['one', 'two', 'three', 4, 5, 'add new item permanently']"
      ]
     },
     "execution_count": 152,
     "metadata": {},
     "output_type": "execute_result"
    }
   ],
   "source": [
    "my_list"
   ]
  },
  {
   "cell_type": "markdown",
   "id": "8af24c43-0f0f-4be1-a64a-05cb386fa168",
   "metadata": {},
   "source": [
    "**Basic list methods**"
   ]
  },
  {
   "cell_type": "code",
   "execution_count": 160,
   "id": "4fb82587-12f4-4111-bed4-f9891483325b",
   "metadata": {},
   "outputs": [],
   "source": [
    "#create a new list\n",
    "l=[1,2,3]"
   ]
  },
  {
   "cell_type": "code",
   "execution_count": 161,
   "id": "6443f520-77b9-45a6-8d65-5c895f09337d",
   "metadata": {},
   "outputs": [],
   "source": [
    "#Append\n",
    "l.append('append me!')\n"
   ]
  },
  {
   "cell_type": "code",
   "execution_count": 162,
   "id": "e0c585e7-46b6-4764-b043-72c0ef21efb5",
   "metadata": {},
   "outputs": [
    {
     "data": {
      "text/plain": [
       "[1, 2, 3, 'append me!']"
      ]
     },
     "execution_count": 162,
     "metadata": {},
     "output_type": "execute_result"
    }
   ],
   "source": [
    "l"
   ]
  },
  {
   "cell_type": "code",
   "execution_count": 163,
   "id": "801126ca-39c8-42bf-a6f0-5e289b756454",
   "metadata": {},
   "outputs": [
    {
     "data": {
      "text/plain": [
       "[2, 3, 'append me!']"
      ]
     },
     "execution_count": 163,
     "metadata": {},
     "output_type": "execute_result"
    }
   ],
   "source": [
    "#pop off the o indexed item\n",
    "l.pop(0)\n",
    "l"
   ]
  },
  {
   "cell_type": "code",
   "execution_count": 164,
   "id": "6daadddc-a0a1-449f-83b7-f0564f4dc438",
   "metadata": {},
   "outputs": [],
   "source": [
    "#Assign the popped element remember default popped index is -1\n",
    "popped_item=l.pop()"
   ]
  },
  {
   "cell_type": "code",
   "execution_count": 165,
   "id": "6769b620-bd94-48fb-bdae-62be451828ab",
   "metadata": {},
   "outputs": [
    {
     "data": {
      "text/plain": [
       "'append me!'"
      ]
     },
     "execution_count": 165,
     "metadata": {},
     "output_type": "execute_result"
    }
   ],
   "source": [
    "popped_item"
   ]
  },
  {
   "cell_type": "code",
   "execution_count": 166,
   "id": "c44d6651-b8bb-4708-959c-8cf873ac415d",
   "metadata": {},
   "outputs": [
    {
     "data": {
      "text/plain": [
       "[2, 3]"
      ]
     },
     "execution_count": 166,
     "metadata": {},
     "output_type": "execute_result"
    }
   ],
   "source": [
    "#show remaining list\n",
    "l"
   ]
  },
  {
   "cell_type": "code",
   "execution_count": 167,
   "id": "54f0b025-8672-47ea-a086-bbdc061aedc4",
   "metadata": {},
   "outputs": [
    {
     "ename": "IndexError",
     "evalue": "list index out of range",
     "output_type": "error",
     "traceback": [
      "\u001b[1;31m---------------------------------------------------------------------------\u001b[0m",
      "\u001b[1;31mIndexError\u001b[0m                                Traceback (most recent call last)",
      "Cell \u001b[1;32mIn[167], line 1\u001b[0m\n\u001b[1;32m----> 1\u001b[0m \u001b[43ml\u001b[49m\u001b[43m[\u001b[49m\u001b[38;5;241;43m100\u001b[39;49m\u001b[43m]\u001b[49m\n",
      "\u001b[1;31mIndexError\u001b[0m: list index out of range"
     ]
    }
   ],
   "source": [
    "l[100]"
   ]
  },
  {
   "cell_type": "code",
   "execution_count": 168,
   "id": "2df8eb89-989e-4e1c-bafc-de06d3569646",
   "metadata": {},
   "outputs": [],
   "source": [
    "new_list=['a','e','x','b','c']"
   ]
  },
  {
   "cell_type": "code",
   "execution_count": 169,
   "id": "83779404-d9c8-4785-92f4-5e45f0c23e85",
   "metadata": {},
   "outputs": [
    {
     "data": {
      "text/plain": [
       "['a', 'e', 'x', 'b', 'c']"
      ]
     },
     "execution_count": 169,
     "metadata": {},
     "output_type": "execute_result"
    }
   ],
   "source": [
    "new_list"
   ]
  },
  {
   "cell_type": "code",
   "execution_count": 170,
   "id": "d28cb5d2-ce17-4c14-b225-b7888270cd86",
   "metadata": {},
   "outputs": [],
   "source": [
    "#reverse order\n",
    "new_list.reverse()"
   ]
  },
  {
   "cell_type": "code",
   "execution_count": 171,
   "id": "9d41b332-b977-41b0-99fc-a0b55a9a0a47",
   "metadata": {},
   "outputs": [
    {
     "data": {
      "text/plain": [
       "['c', 'b', 'x', 'e', 'a']"
      ]
     },
     "execution_count": 171,
     "metadata": {},
     "output_type": "execute_result"
    }
   ],
   "source": [
    "new_list"
   ]
  },
  {
   "cell_type": "code",
   "execution_count": 172,
   "id": "ed847693-25e4-443e-b27b-fdbbda26097c",
   "metadata": {},
   "outputs": [],
   "source": [
    "#sort\n",
    "new_list.sort()"
   ]
  },
  {
   "cell_type": "code",
   "execution_count": 173,
   "id": "d3118309-1eff-4f92-95b8-715f5a816cc2",
   "metadata": {},
   "outputs": [
    {
     "data": {
      "text/plain": [
       "['a', 'b', 'c', 'e', 'x']"
      ]
     },
     "execution_count": 173,
     "metadata": {},
     "output_type": "execute_result"
    }
   ],
   "source": [
    "new_list"
   ]
  },
  {
   "cell_type": "markdown",
   "id": "25bbebd7-3a1b-4b4a-ab8c-ee3efd2de4d8",
   "metadata": {},
   "source": [
    "**Nesting lists**"
   ]
  },
  {
   "cell_type": "code",
   "execution_count": 174,
   "id": "9f823568-7ab2-41aa-af10-6ce2ca4b26b1",
   "metadata": {},
   "outputs": [],
   "source": [
    "#lets make three list\n",
    "lst_1=[1,2,3]\n",
    "lst_2=[4,5,6]\n",
    "lst_3=[7,8,9]\n",
    "#make a list of lists to form a matrix\n",
    "matrix=[lst_1,lst_2,lst_3]"
   ]
  },
  {
   "cell_type": "code",
   "execution_count": 176,
   "id": "2ef16c52-f41d-4109-92bb-d95f74de454d",
   "metadata": {},
   "outputs": [
    {
     "data": {
      "text/plain": [
       "[[1, 2, 3], [4, 5, 6], [7, 8, 9]]"
      ]
     },
     "execution_count": 176,
     "metadata": {},
     "output_type": "execute_result"
    }
   ],
   "source": [
    "matrix"
   ]
  },
  {
   "cell_type": "code",
   "execution_count": 177,
   "id": "f43c768f-c623-47cb-85b9-97b71343ed69",
   "metadata": {},
   "outputs": [
    {
     "data": {
      "text/plain": [
       "[1, 2, 3]"
      ]
     },
     "execution_count": 177,
     "metadata": {},
     "output_type": "execute_result"
    }
   ],
   "source": [
    "#first item\n",
    "matrix[0]"
   ]
  },
  {
   "cell_type": "code",
   "execution_count": 179,
   "id": "8beefda2-aa18-49f1-bc47-5c0f80199590",
   "metadata": {},
   "outputs": [
    {
     "data": {
      "text/plain": [
       "1"
      ]
     },
     "execution_count": 179,
     "metadata": {},
     "output_type": "execute_result"
    }
   ],
   "source": [
    "#first item of first item\n",
    "matrix[0][0]"
   ]
  },
  {
   "cell_type": "markdown",
   "id": "7bb5480d-6c08-473f-bd45-daeb0f34a57d",
   "metadata": {},
   "source": [
    "**List Comprehensions**"
   ]
  },
  {
   "cell_type": "code",
   "execution_count": 181,
   "id": "b0243394-c83d-4a15-bf6e-5796e0c8d66f",
   "metadata": {},
   "outputs": [],
   "source": [
    "#build a list compehension by deconstructing a for loop within a []\n",
    "first_col=[row[0] for row in matrix]"
   ]
  },
  {
   "cell_type": "code",
   "execution_count": 182,
   "id": "65a9c250-e717-4a9e-846e-2d36fcf6c092",
   "metadata": {},
   "outputs": [
    {
     "data": {
      "text/plain": [
       "[1, 4, 7]"
      ]
     },
     "execution_count": 182,
     "metadata": {},
     "output_type": "execute_result"
    }
   ],
   "source": [
    "first_col"
   ]
  },
  {
   "cell_type": "markdown",
   "id": "32f7f4bb-2d49-46b8-a27f-97ab77a072e5",
   "metadata": {},
   "source": [
    "**Advanced lists**"
   ]
  },
  {
   "cell_type": "code",
   "execution_count": 188,
   "id": "fb68dcfe-7d8d-47d8-8831-7fc9153be339",
   "metadata": {},
   "outputs": [],
   "source": [
    "l=[1,2,3]"
   ]
  },
  {
   "cell_type": "code",
   "execution_count": 189,
   "id": "b2f66c6b-b13e-4332-8cfd-bee483f6b085",
   "metadata": {},
   "outputs": [],
   "source": [
    "#append\n",
    "l.append(4)\n"
   ]
  },
  {
   "cell_type": "code",
   "execution_count": 190,
   "id": "222da324-6204-48eb-8b7e-6b2f1e4ac318",
   "metadata": {},
   "outputs": [
    {
     "data": {
      "text/plain": [
       "[1, 2, 3, 4]"
      ]
     },
     "execution_count": 190,
     "metadata": {},
     "output_type": "execute_result"
    }
   ],
   "source": [
    "l"
   ]
  },
  {
   "cell_type": "code",
   "execution_count": 192,
   "id": "1fcd5a3b-3080-4c3b-9949-ed5f6f79c852",
   "metadata": {},
   "outputs": [
    {
     "data": {
      "text/plain": [
       "1"
      ]
     },
     "execution_count": 192,
     "metadata": {},
     "output_type": "execute_result"
    }
   ],
   "source": [
    "#count\n",
    "l.count(2)"
   ]
  },
  {
   "cell_type": "code",
   "execution_count": 193,
   "id": "f02e219f-b754-4537-93b7-f4efd25c4ae6",
   "metadata": {},
   "outputs": [],
   "source": [
    "#extend\n",
    "x=[1,2,3]\n",
    "x.extend([4,5])"
   ]
  },
  {
   "cell_type": "code",
   "execution_count": 194,
   "id": "4f22a8cb-1573-4648-b9d3-a8064cf8687c",
   "metadata": {},
   "outputs": [
    {
     "data": {
      "text/plain": [
       "[1, 2, 3, 4, 5]"
      ]
     },
     "execution_count": 194,
     "metadata": {},
     "output_type": "execute_result"
    }
   ],
   "source": [
    "x"
   ]
  },
  {
   "cell_type": "code",
   "execution_count": 195,
   "id": "609816da-0240-45dc-a51f-475d102fc44d",
   "metadata": {},
   "outputs": [
    {
     "name": "stdout",
     "output_type": "stream",
     "text": [
      "[1, 2, 3, 4]\n"
     ]
    },
    {
     "data": {
      "text/plain": [
       "1"
      ]
     },
     "execution_count": 195,
     "metadata": {},
     "output_type": "execute_result"
    }
   ],
   "source": [
    "#index\n",
    "print(l)\n",
    "l.index(2)"
   ]
  },
  {
   "cell_type": "code",
   "execution_count": 198,
   "id": "218ee083-ac2c-4ef6-9b03-92bc90e7ea65",
   "metadata": {},
   "outputs": [
    {
     "ename": "ValueError",
     "evalue": "22 is not in list",
     "output_type": "error",
     "traceback": [
      "\u001b[1;31m---------------------------------------------------------------------------\u001b[0m",
      "\u001b[1;31mValueError\u001b[0m                                Traceback (most recent call last)",
      "Cell \u001b[1;32mIn[198], line 1\u001b[0m\n\u001b[1;32m----> 1\u001b[0m \u001b[43ml\u001b[49m\u001b[38;5;241;43m.\u001b[39;49m\u001b[43mindex\u001b[49m\u001b[43m(\u001b[49m\u001b[38;5;241;43m22\u001b[39;49m\u001b[43m)\u001b[49m\n",
      "\u001b[1;31mValueError\u001b[0m: 22 is not in list"
     ]
    }
   ],
   "source": [
    "l.index(22)"
   ]
  },
  {
   "cell_type": "code",
   "execution_count": 199,
   "id": "62dddb47-a6c9-44af-8394-0142a1fb0303",
   "metadata": {},
   "outputs": [
    {
     "data": {
      "text/plain": [
       "[1, 2, 'inserted', 3, 4]"
      ]
     },
     "execution_count": 199,
     "metadata": {},
     "output_type": "execute_result"
    }
   ],
   "source": [
    "#insert\n",
    "l.insert(2,'inserted')\n",
    "l"
   ]
  },
  {
   "cell_type": "code",
   "execution_count": 200,
   "id": "2ce3431f-9144-4b4e-94a4-4775ddb7598a",
   "metadata": {},
   "outputs": [
    {
     "data": {
      "text/plain": [
       "[1, 2, 'inserted', 3]"
      ]
     },
     "execution_count": 200,
     "metadata": {},
     "output_type": "execute_result"
    }
   ],
   "source": [
    "#pop\n",
    "ele=l.pop()\n",
    "l"
   ]
  },
  {
   "cell_type": "code",
   "execution_count": 201,
   "id": "fd0a4452-1cd6-4bc3-9241-810c39873597",
   "metadata": {},
   "outputs": [
    {
     "data": {
      "text/plain": [
       "4"
      ]
     },
     "execution_count": 201,
     "metadata": {},
     "output_type": "execute_result"
    }
   ],
   "source": [
    "ele"
   ]
  },
  {
   "cell_type": "code",
   "execution_count": 202,
   "id": "ca07a2e3-b298-4227-a638-94e6aaefc25d",
   "metadata": {},
   "outputs": [
    {
     "data": {
      "text/plain": [
       "[1, 2, 'inserted', 3]"
      ]
     },
     "execution_count": 202,
     "metadata": {},
     "output_type": "execute_result"
    }
   ],
   "source": [
    "#remove\n",
    "l"
   ]
  },
  {
   "cell_type": "code",
   "execution_count": 203,
   "id": "6d47673a-fbfe-40da-8dc9-1f77ad6d23f3",
   "metadata": {},
   "outputs": [],
   "source": [
    "l.remove('inserted')"
   ]
  },
  {
   "cell_type": "code",
   "execution_count": 204,
   "id": "794ad66b-b64a-4972-b6d2-b6bcbfdb85b0",
   "metadata": {},
   "outputs": [
    {
     "data": {
      "text/plain": [
       "[1, 2, 3]"
      ]
     },
     "execution_count": 204,
     "metadata": {},
     "output_type": "execute_result"
    }
   ],
   "source": [
    "l"
   ]
  },
  {
   "cell_type": "code",
   "execution_count": 205,
   "id": "cebd3b6e-c918-472a-a70e-11fcd0ab4d90",
   "metadata": {},
   "outputs": [],
   "source": [
    "l=[1,2,3,4,3]"
   ]
  },
  {
   "cell_type": "code",
   "execution_count": 206,
   "id": "2e472254-4ea0-42ca-85bb-bb4b606da34f",
   "metadata": {},
   "outputs": [],
   "source": [
    "l.remove(3)"
   ]
  },
  {
   "cell_type": "code",
   "execution_count": 207,
   "id": "1370d2b0-091b-47af-8104-7241f20c3643",
   "metadata": {},
   "outputs": [
    {
     "data": {
      "text/plain": [
       "[1, 2, 4, 3]"
      ]
     },
     "execution_count": 207,
     "metadata": {},
     "output_type": "execute_result"
    }
   ],
   "source": [
    "l"
   ]
  },
  {
   "cell_type": "code",
   "execution_count": 208,
   "id": "b58d90c5-93c8-49f9-90dd-7a16ac697932",
   "metadata": {},
   "outputs": [
    {
     "data": {
      "text/plain": [
       "[3, 4, 2, 1]"
      ]
     },
     "execution_count": 208,
     "metadata": {},
     "output_type": "execute_result"
    }
   ],
   "source": [
    "#reverse\n",
    "l.reverse()\n",
    "l"
   ]
  },
  {
   "cell_type": "code",
   "execution_count": 209,
   "id": "f98ac33f-c10f-496d-b29f-9800a1051cf1",
   "metadata": {},
   "outputs": [
    {
     "data": {
      "text/plain": [
       "[1, 2, 3, 4]"
      ]
     },
     "execution_count": 209,
     "metadata": {},
     "output_type": "execute_result"
    }
   ],
   "source": [
    "#sort\n",
    "l\n",
    "l.sort()\n",
    "l"
   ]
  },
  {
   "cell_type": "code",
   "execution_count": null,
   "id": "dd75d9f2-fdca-455b-9e97-afc2759d7118",
   "metadata": {},
   "outputs": [],
   "source": []
  }
 ],
 "metadata": {
  "kernelspec": {
   "display_name": "Python 3 (ipykernel)",
   "language": "python",
   "name": "python3"
  },
  "language_info": {
   "codemirror_mode": {
    "name": "ipython",
    "version": 3
   },
   "file_extension": ".py",
   "mimetype": "text/x-python",
   "name": "python",
   "nbconvert_exporter": "python",
   "pygments_lexer": "ipython3",
   "version": "3.11.4"
  }
 },
 "nbformat": 4,
 "nbformat_minor": 5
}
