{
 "cells": [
  {
   "cell_type": "markdown",
   "id": "f60d28ca-474e-4aec-bfb2-3fc415428be1",
   "metadata": {},
   "source": [
    "**Tuple**"
   ]
  },
  {
   "cell_type": "code",
   "execution_count": 2,
   "id": "6e44f238-d1b7-4cc8-8d90-61c6c97b0702",
   "metadata": {},
   "outputs": [],
   "source": [
    "#creating a tuple\n",
    "tiger=(1,2,3)\n"
   ]
  },
  {
   "cell_type": "code",
   "execution_count": 7,
   "id": "38194be6-2cf6-4dd3-a4de-a9ce4a00cb37",
   "metadata": {},
   "outputs": [
    {
     "data": {
      "text/plain": [
       "3"
      ]
     },
     "execution_count": 7,
     "metadata": {},
     "output_type": "execute_result"
    }
   ],
   "source": [
    "len(tiger)"
   ]
  },
  {
   "cell_type": "code",
   "execution_count": 8,
   "id": "c385eaeb-1c31-4b1e-97b8-f6d0f1fa97be",
   "metadata": {},
   "outputs": [
    {
     "data": {
      "text/plain": [
       "('one', 2)"
      ]
     },
     "execution_count": 8,
     "metadata": {},
     "output_type": "execute_result"
    }
   ],
   "source": [
    "#can also mix object types\n",
    "t=('one',2)\n",
    "t"
   ]
  },
  {
   "cell_type": "code",
   "execution_count": 9,
   "id": "8093e70b-051f-4ea6-8ed9-74c8ea49a2b9",
   "metadata": {},
   "outputs": [
    {
     "data": {
      "text/plain": [
       "'one'"
      ]
     },
     "execution_count": 9,
     "metadata": {},
     "output_type": "execute_result"
    }
   ],
   "source": [
    "#indexing\n",
    "t[0]"
   ]
  },
  {
   "cell_type": "code",
   "execution_count": 10,
   "id": "3bbf7d6f-e4d9-4f7f-bedf-35da5a24c630",
   "metadata": {},
   "outputs": [
    {
     "data": {
      "text/plain": [
       "2"
      ]
     },
     "execution_count": 10,
     "metadata": {},
     "output_type": "execute_result"
    }
   ],
   "source": [
    "#slicing\n",
    "t[-1]"
   ]
  },
  {
   "cell_type": "markdown",
   "id": "c60e00f0-d4c4-4cd3-8277-a3339f9cdb5e",
   "metadata": {},
   "source": [
    "**Basic Tuple methods**"
   ]
  },
  {
   "cell_type": "code",
   "execution_count": 11,
   "id": "e2b37fab-1808-4f74-a741-0f05ed0da3e9",
   "metadata": {},
   "outputs": [
    {
     "data": {
      "text/plain": [
       "0"
      ]
     },
     "execution_count": 11,
     "metadata": {},
     "output_type": "execute_result"
    }
   ],
   "source": [
    "#use .index to enter a value and return the index\n",
    "t.index('one')"
   ]
  },
  {
   "cell_type": "code",
   "execution_count": 12,
   "id": "8bfb36c7-5480-42e6-9d93-d217b8aac819",
   "metadata": {},
   "outputs": [
    {
     "data": {
      "text/plain": [
       "1"
      ]
     },
     "execution_count": 12,
     "metadata": {},
     "output_type": "execute_result"
    }
   ],
   "source": [
    "#use .count to count the number of times  a value appears\n",
    "t.count('one')"
   ]
  },
  {
   "cell_type": "markdown",
   "id": "559e8271-2229-406e-9e36-708ee19ddabf",
   "metadata": {},
   "source": [
    "**Immutability**"
   ]
  },
  {
   "cell_type": "code",
   "execution_count": 13,
   "id": "d01a06ac-e34e-4db8-bd50-3c09164bfcb1",
   "metadata": {},
   "outputs": [
    {
     "ename": "TypeError",
     "evalue": "'tuple' object does not support item assignment",
     "output_type": "error",
     "traceback": [
      "\u001b[1;31m---------------------------------------------------------------------------\u001b[0m",
      "\u001b[1;31mTypeError\u001b[0m                                 Traceback (most recent call last)",
      "Cell \u001b[1;32mIn[13], line 1\u001b[0m\n\u001b[1;32m----> 1\u001b[0m \u001b[43mt\u001b[49m\u001b[43m[\u001b[49m\u001b[38;5;241;43m0\u001b[39;49m\u001b[43m]\u001b[49m\u001b[38;5;241m=\u001b[39m\u001b[38;5;124m'\u001b[39m\u001b[38;5;124mchange\u001b[39m\u001b[38;5;124m'\u001b[39m\n",
      "\u001b[1;31mTypeError\u001b[0m: 'tuple' object does not support item assignment"
     ]
    }
   ],
   "source": [
    "t[0]='change'"
   ]
  },
  {
   "cell_type": "code",
   "execution_count": 14,
   "id": "4322b4f8-62af-4035-b363-a6b74ad4aa19",
   "metadata": {},
   "outputs": [
    {
     "ename": "AttributeError",
     "evalue": "'tuple' object has no attribute 'append'",
     "output_type": "error",
     "traceback": [
      "\u001b[1;31m---------------------------------------------------------------------------\u001b[0m",
      "\u001b[1;31mAttributeError\u001b[0m                            Traceback (most recent call last)",
      "Cell \u001b[1;32mIn[14], line 1\u001b[0m\n\u001b[1;32m----> 1\u001b[0m \u001b[43mt\u001b[49m\u001b[38;5;241;43m.\u001b[39;49m\u001b[43mappend\u001b[49m(\u001b[38;5;124m'\u001b[39m\u001b[38;5;124mnope\u001b[39m\u001b[38;5;124m'\u001b[39m)\n",
      "\u001b[1;31mAttributeError\u001b[0m: 'tuple' object has no attribute 'append'"
     ]
    }
   ],
   "source": [
    "t.append('nope')"
   ]
  },
  {
   "cell_type": "markdown",
   "id": "ce4ba673-ff10-4c40-8790-caacde4aaa1c",
   "metadata": {},
   "source": [
    "**Sets**"
   ]
  },
  {
   "cell_type": "code",
   "execution_count": 15,
   "id": "5f8d4925-73c7-44e0-a882-7ccbbf54a902",
   "metadata": {},
   "outputs": [],
   "source": [
    "x=set()"
   ]
  },
  {
   "cell_type": "code",
   "execution_count": 16,
   "id": "b72a97aa-f354-4b0f-bbdd-9efa583d1a53",
   "metadata": {},
   "outputs": [
    {
     "data": {
      "text/plain": [
       "{1}"
      ]
     },
     "execution_count": 16,
     "metadata": {},
     "output_type": "execute_result"
    }
   ],
   "source": [
    "#we add to sets with the add() method\n",
    "x.add(1)\n",
    "x"
   ]
  },
  {
   "cell_type": "code",
   "execution_count": 17,
   "id": "75e72ef7-3bea-4955-a77a-91636f7ae188",
   "metadata": {},
   "outputs": [
    {
     "data": {
      "text/plain": [
       "{1, 2}"
      ]
     },
     "execution_count": 17,
     "metadata": {},
     "output_type": "execute_result"
    }
   ],
   "source": [
    "#add a different element\n",
    "x.add(2)\n",
    "x"
   ]
  },
  {
   "cell_type": "code",
   "execution_count": 18,
   "id": "15bd9dd8-e010-4f22-8091-8e84ebb09d3b",
   "metadata": {},
   "outputs": [
    {
     "data": {
      "text/plain": [
       "{1, 2}"
      ]
     },
     "execution_count": 18,
     "metadata": {},
     "output_type": "execute_result"
    }
   ],
   "source": [
    "#try to add same element\n",
    "x.add(1)\n",
    "x"
   ]
  },
  {
   "cell_type": "code",
   "execution_count": 19,
   "id": "cc965740-f109-4f07-bc2a-07dbb27263c2",
   "metadata": {},
   "outputs": [],
   "source": [
    "#create a list with repeats\n",
    "l=[1,1,2,2,3,4,5,6,1,1]"
   ]
  },
  {
   "cell_type": "code",
   "execution_count": 20,
   "id": "92573bab-6970-4d4d-b1ea-f2f62f2bdb11",
   "metadata": {},
   "outputs": [
    {
     "data": {
      "text/plain": [
       "{1, 2, 3, 4, 5, 6}"
      ]
     },
     "execution_count": 20,
     "metadata": {},
     "output_type": "execute_result"
    }
   ],
   "source": [
    "#cast as set to get unique values\n",
    "set(l)"
   ]
  },
  {
   "cell_type": "markdown",
   "id": "f34309da-780c-4b53-b989-c8949f8228d4",
   "metadata": {},
   "source": [
    "**Dictionaries**"
   ]
  },
  {
   "cell_type": "code",
   "execution_count": 21,
   "id": "33e1b628-a922-4741-a8b3-ea10deeeca7a",
   "metadata": {},
   "outputs": [],
   "source": [
    "#make a dictionry with {} and : to signify a key and  value\n",
    "my_dict={'key1':'value1','key2':'value2'}"
   ]
  },
  {
   "cell_type": "code",
   "execution_count": 22,
   "id": "682b9d2c-747f-4943-8bd5-14f508ac10d0",
   "metadata": {},
   "outputs": [
    {
     "data": {
      "text/plain": [
       "'value2'"
      ]
     },
     "execution_count": 22,
     "metadata": {},
     "output_type": "execute_result"
    }
   ],
   "source": [
    "#call values by their key\n",
    "my_dict['key2']"
   ]
  },
  {
   "cell_type": "code",
   "execution_count": 23,
   "id": "55354ec1-4eaa-4688-aad7-169948e7b324",
   "metadata": {},
   "outputs": [],
   "source": [
    "my_dict={'key1':123,'key2':[12,23,33],'key3':['item0','item1','item2']}"
   ]
  },
  {
   "cell_type": "code",
   "execution_count": 24,
   "id": "bcabe2fa-d488-4429-ab55-34ac9efc76e9",
   "metadata": {},
   "outputs": [
    {
     "data": {
      "text/plain": [
       "['item0', 'item1', 'item2']"
      ]
     },
     "execution_count": 24,
     "metadata": {},
     "output_type": "execute_result"
    }
   ],
   "source": [
    "#calling itens from dictionary\n",
    "my_dict['key3']"
   ]
  },
  {
   "cell_type": "code",
   "execution_count": 25,
   "id": "4fcc57d6-1ad4-4941-9c5a-5ad3b7e52017",
   "metadata": {},
   "outputs": [
    {
     "data": {
      "text/plain": [
       "'item0'"
      ]
     },
     "execution_count": 25,
     "metadata": {},
     "output_type": "execute_result"
    }
   ],
   "source": [
    "#can call an index of that value\n",
    "my_dict['key3'][0]\n"
   ]
  },
  {
   "cell_type": "code",
   "execution_count": 26,
   "id": "3a6b34bc-2c07-4b5f-9385-9b1e6c4cc921",
   "metadata": {},
   "outputs": [
    {
     "data": {
      "text/plain": [
       "'ITEM0'"
      ]
     },
     "execution_count": 26,
     "metadata": {},
     "output_type": "execute_result"
    }
   ],
   "source": [
    "#can even call methods on that value\n",
    "my_dict['key3'][0].upper()"
   ]
  },
  {
   "cell_type": "code",
   "execution_count": 27,
   "id": "76e70981-b155-410e-8a2f-ac372392b841",
   "metadata": {},
   "outputs": [
    {
     "data": {
      "text/plain": [
       "123"
      ]
     },
     "execution_count": 27,
     "metadata": {},
     "output_type": "execute_result"
    }
   ],
   "source": [
    "my_dict['key1']"
   ]
  },
  {
   "cell_type": "code",
   "execution_count": 28,
   "id": "66c3963e-5d21-42a5-a26f-0ddb420d258c",
   "metadata": {},
   "outputs": [
    {
     "data": {
      "text/plain": [
       "0"
      ]
     },
     "execution_count": 28,
     "metadata": {},
     "output_type": "execute_result"
    }
   ],
   "source": [
    "#subtract 123 from the value\n",
    "my_dict['key1']=my_dict['key1']-123\n",
    "my_dict['key1']"
   ]
  },
  {
   "cell_type": "code",
   "execution_count": 29,
   "id": "d9da3e3c-5164-42bb-9cf0-1cc9072e02eb",
   "metadata": {},
   "outputs": [
    {
     "data": {
      "text/plain": [
       "-123"
      ]
     },
     "execution_count": 29,
     "metadata": {},
     "output_type": "execute_result"
    }
   ],
   "source": [
    "#set the object equal to itself minus 123\n",
    "my_dict['key1']-=123\n",
    "my_dict['key1']"
   ]
  },
  {
   "cell_type": "code",
   "execution_count": 34,
   "id": "7cfc4cc4-94c3-4d14-85c0-885cb1b50718",
   "metadata": {},
   "outputs": [],
   "source": [
    "#create a new dictionary\n",
    "d={}\n"
   ]
  },
  {
   "cell_type": "code",
   "execution_count": 35,
   "id": "906cb7ec-0574-4d7b-a162-943daf95e015",
   "metadata": {},
   "outputs": [],
   "source": [
    "#create a new key through assignment\n",
    "d['animal']='Dog'\n"
   ]
  },
  {
   "cell_type": "code",
   "execution_count": 36,
   "id": "f0ec8052-c0be-47ea-b74e-7dc1174eecc0",
   "metadata": {},
   "outputs": [
    {
     "data": {
      "text/plain": [
       "{'animal': 'Dog', 'answer': 42}"
      ]
     },
     "execution_count": 36,
     "metadata": {},
     "output_type": "execute_result"
    }
   ],
   "source": [
    "#can do this with any object\n",
    "d['answer']=42\n",
    "d"
   ]
  },
  {
   "cell_type": "markdown",
   "id": "2ed934b0-95f7-4b3c-b5e3-0d8edb825494",
   "metadata": {},
   "source": [
    "**Nesting with dictionaries**"
   ]
  },
  {
   "cell_type": "code",
   "execution_count": 41,
   "id": "2549f46a-9dfb-4b51-a00e-66aface34a94",
   "metadata": {},
   "outputs": [],
   "source": [
    "#Dictionary nested inside a dictionary nested inside a dictionary\n",
    "d={'key1':{'nestkey':{'subnestkey':'value'}}}"
   ]
  },
  {
   "cell_type": "code",
   "execution_count": 42,
   "id": "db0b9346-557e-462f-9dc3-02b691122c66",
   "metadata": {},
   "outputs": [
    {
     "data": {
      "text/plain": [
       "'value'"
      ]
     },
     "execution_count": 42,
     "metadata": {},
     "output_type": "execute_result"
    }
   ],
   "source": [
    "#keep calling the keys\n",
    "d['key1']['nestkey']['subnestkey']"
   ]
  },
  {
   "cell_type": "markdown",
   "id": "25c66558-f9f1-4fdb-bc56-497de87cf326",
   "metadata": {},
   "source": [
    "**A few Dictionary methods**"
   ]
  },
  {
   "cell_type": "code",
   "execution_count": 43,
   "id": "0b95857e-4814-451f-8ee0-e738551926a3",
   "metadata": {},
   "outputs": [],
   "source": [
    "#create a typical dictionary\n",
    "d={'key1':1,'key2':2,'key3':3}"
   ]
  },
  {
   "cell_type": "code",
   "execution_count": 44,
   "id": "90a528c4-f05e-4f24-a4c7-6b22af50354e",
   "metadata": {},
   "outputs": [
    {
     "data": {
      "text/plain": [
       "dict_keys(['key1', 'key2', 'key3'])"
      ]
     },
     "execution_count": 44,
     "metadata": {},
     "output_type": "execute_result"
    }
   ],
   "source": [
    "#methods to return a list of all keys\n",
    "d.keys()\n"
   ]
  },
  {
   "cell_type": "code",
   "execution_count": 45,
   "id": "b1cbd467-92eb-4171-9c56-0b3523ae7bd9",
   "metadata": {},
   "outputs": [
    {
     "data": {
      "text/plain": [
       "dict_values([1, 2, 3])"
      ]
     },
     "execution_count": 45,
     "metadata": {},
     "output_type": "execute_result"
    }
   ],
   "source": [
    "#methods to grab all values\n",
    "d.values()"
   ]
  },
  {
   "cell_type": "code",
   "execution_count": 46,
   "id": "e5a36aee-fbda-4a1d-bfd0-cc75eb33fd1f",
   "metadata": {},
   "outputs": [
    {
     "data": {
      "text/plain": [
       "dict_items([('key1', 1), ('key2', 2), ('key3', 3)])"
      ]
     },
     "execution_count": 46,
     "metadata": {},
     "output_type": "execute_result"
    }
   ],
   "source": [
    "#methods to return tuples of all items\n",
    "d.items()"
   ]
  },
  {
   "cell_type": "markdown",
   "id": "e803ad8f-920b-4137-8e61-f6f8577af075",
   "metadata": {},
   "source": [
    "**Dictionary Comprehensions**"
   ]
  },
  {
   "cell_type": "code",
   "execution_count": 49,
   "id": "f24545ac-7999-4c9e-84a0-5c0b6d470dd4",
   "metadata": {},
   "outputs": [
    {
     "name": "stdout",
     "output_type": "stream",
     "text": [
      "[0, 1, 2, 3, 4, 5, 6, 7, 8, 9]\n"
     ]
    }
   ],
   "source": [
    "print(list(range(10)))"
   ]
  },
  {
   "cell_type": "code",
   "execution_count": 50,
   "id": "ed9d8c3c-3c81-4c4a-9039-81629386c54f",
   "metadata": {},
   "outputs": [
    {
     "data": {
      "text/plain": [
       "{0: 0, 1: 2, 2: 4, 3: 6, 4: 8, 5: 10, 6: 12, 7: 14, 8: 16, 9: 18}"
      ]
     },
     "execution_count": 50,
     "metadata": {},
     "output_type": "execute_result"
    }
   ],
   "source": [
    "{x:x*2 for x in range(10)}"
   ]
  },
  {
   "cell_type": "markdown",
   "id": "26960b64-82bf-439d-b246-949e099c5382",
   "metadata": {},
   "source": [
    "**Functions**"
   ]
  },
  {
   "cell_type": "code",
   "execution_count": 51,
   "id": "ffe7bcde-0ae9-4fd4-9b4f-e2c53c2a4b5f",
   "metadata": {},
   "outputs": [],
   "source": [
    "def say_hello():\n",
    "    print('hello')"
   ]
  },
  {
   "cell_type": "code",
   "execution_count": 52,
   "id": "b75f48f4-4f67-42dc-8424-754b503cfd93",
   "metadata": {},
   "outputs": [
    {
     "name": "stdout",
     "output_type": "stream",
     "text": [
      "hello\n"
     ]
    }
   ],
   "source": [
    "say_hello()"
   ]
  },
  {
   "cell_type": "code",
   "execution_count": 64,
   "id": "c239e87b-90c0-46ba-9ac7-53a9c89275e8",
   "metadata": {},
   "outputs": [],
   "source": [
    "#example\n",
    "def greeting(name):\n",
    "    print('Hello %s' %name)\n",
    "    print('how are you doing %s'%name)"
   ]
  },
  {
   "cell_type": "code",
   "execution_count": 65,
   "id": "833d43ee-ae86-4ce6-b393-2b8daa4f2cc3",
   "metadata": {},
   "outputs": [
    {
     "name": "stdout",
     "output_type": "stream",
     "text": [
      "Hello jose\n",
      "how are you doing jose\n"
     ]
    }
   ],
   "source": [
    "greeting('jose')"
   ]
  },
  {
   "cell_type": "markdown",
   "id": "09e90d34-ed62-44b4-988b-b2a136302ed2",
   "metadata": {},
   "source": [
    "**Using return**"
   ]
  },
  {
   "cell_type": "code",
   "execution_count": 56,
   "id": "aa3a4a7c-b3c5-4607-b1bf-1d8fe0481773",
   "metadata": {},
   "outputs": [],
   "source": [
    "#addition eg:\n",
    "def add_num(num1,num2):\n",
    "    return num1+num2"
   ]
  },
  {
   "cell_type": "code",
   "execution_count": 58,
   "id": "c702ee9b-5fca-49c9-8039-8e25f8e3855b",
   "metadata": {},
   "outputs": [
    {
     "data": {
      "text/plain": [
       "9"
      ]
     },
     "execution_count": 58,
     "metadata": {},
     "output_type": "execute_result"
    }
   ],
   "source": [
    "add_num(4,5)"
   ]
  },
  {
   "cell_type": "code",
   "execution_count": 59,
   "id": "d42065f6-ff82-47f4-b837-ed3af7d5bf2a",
   "metadata": {},
   "outputs": [
    {
     "data": {
      "text/plain": [
       "9"
      ]
     },
     "execution_count": 59,
     "metadata": {},
     "output_type": "execute_result"
    }
   ],
   "source": [
    "#can also save as variable due to return\n",
    "result=add_num(4,5)\n",
    "result"
   ]
  },
  {
   "cell_type": "code",
   "execution_count": 66,
   "id": "4be018b7-31a1-4f04-ae9e-7e10603f65db",
   "metadata": {},
   "outputs": [
    {
     "name": "stdout",
     "output_type": "stream",
     "text": [
      "one\ttwo\n"
     ]
    }
   ],
   "source": [
    "#input two strings\n",
    "print(add_num('one\\t','two'))"
   ]
  },
  {
   "cell_type": "code",
   "execution_count": 74,
   "id": "c649fc3a-2e65-490b-aaa2-efa73e551d83",
   "metadata": {},
   "outputs": [],
   "source": [
    "#method of checking for primes\n",
    "def is_prime(num):\n",
    "    for n in range(2,num):\n",
    "        if num%n==0:\n",
    "            print('not prime')\n",
    "            break\n",
    "    else:\n",
    "            print('prime')\n",
    "            "
   ]
  },
  {
   "cell_type": "code",
   "execution_count": 75,
   "id": "9072cd06-692f-4fab-b039-de7d2209079f",
   "metadata": {},
   "outputs": [
    {
     "name": "stdout",
     "output_type": "stream",
     "text": [
      "prime\n"
     ]
    }
   ],
   "source": [
    "is_prime(11)"
   ]
  },
  {
   "cell_type": "code",
   "execution_count": 76,
   "id": "5fce4035-fd26-44e0-a2d2-99c3e843f1a9",
   "metadata": {},
   "outputs": [],
   "source": [
    "import math\n",
    "def is_prime(num):\n",
    "    if num%2==0 and num>2:\n",
    "        return False\n",
    "    for i in range(3,int(math.sqrt(num)) + 1,2):\n",
    "        if num % i ==0:\n",
    "            return False\n",
    "    return True\n",
    "             \n",
    "             "
   ]
  },
  {
   "cell_type": "code",
   "execution_count": 78,
   "id": "032285b1-e6c6-45cc-8fe2-153b5462ea03",
   "metadata": {},
   "outputs": [
    {
     "data": {
      "text/plain": [
       "True"
      ]
     },
     "execution_count": 78,
     "metadata": {},
     "output_type": "execute_result"
    }
   ],
   "source": [
    "is_prime(11)"
   ]
  },
  {
   "cell_type": "markdown",
   "id": "6c769c7b-f3d3-4324-aa13-1f527318f1a2",
   "metadata": {},
   "source": [
    "**Iterators and generators**"
   ]
  },
  {
   "cell_type": "code",
   "execution_count": 79,
   "id": "d00cf282-b779-43d1-bd3b-9cd5779a8211",
   "metadata": {},
   "outputs": [],
   "source": [
    "#generator functions for the cube of numbers(power of 3)\n",
    "def gencubes(n):\n",
    "    for num in range(n):\n",
    "        yield num**3"
   ]
  },
  {
   "cell_type": "code",
   "execution_count": 81,
   "id": "58eff63d-9d0c-4602-ac98-dd9e1687a939",
   "metadata": {},
   "outputs": [
    {
     "name": "stdout",
     "output_type": "stream",
     "text": [
      "0\n",
      "1\n",
      "8\n",
      "27\n",
      "64\n",
      "125\n"
     ]
    }
   ],
   "source": [
    "for x in gencubes(6):\n",
    "    print(x)"
   ]
  },
  {
   "cell_type": "code",
   "execution_count": 83,
   "id": "83504ece-666c-4db7-86b8-c7605f17589d",
   "metadata": {},
   "outputs": [],
   "source": [
    "#generate a fibonaci sequence up to n\n",
    "def genfibon(n):\n",
    "    a=1\n",
    "    b=1\n",
    "    for i in range(n):\n",
    "        yield a\n",
    "        a,b=b,a+b\n"
   ]
  },
  {
   "cell_type": "code",
   "execution_count": 84,
   "id": "08ca0b1b-1414-4b75-a39c-9206e6766ffa",
   "metadata": {},
   "outputs": [
    {
     "name": "stdout",
     "output_type": "stream",
     "text": [
      "1\n",
      "1\n",
      "2\n",
      "3\n",
      "5\n",
      "8\n",
      "13\n",
      "21\n",
      "34\n",
      "55\n"
     ]
    }
   ],
   "source": [
    "for num in genfibon(10):\n",
    "    print(num)"
   ]
  },
  {
   "cell_type": "code",
   "execution_count": 85,
   "id": "7242417f-5f9b-4d2f-bc2b-4864e7837ed2",
   "metadata": {},
   "outputs": [],
   "source": [
    "def fibon(n):\n",
    "    a=1\n",
    "    b=1\n",
    "    output=[]\n",
    "    for i in range(n):\n",
    "        output.append(a)\n",
    "        a,b=b,a+b\n",
    "    return output"
   ]
  },
  {
   "cell_type": "code",
   "execution_count": 86,
   "id": "cbb86929-3a19-44bf-a393-434efca15ee1",
   "metadata": {},
   "outputs": [
    {
     "data": {
      "text/plain": [
       "[1, 1, 2, 3, 5, 8, 13, 21, 34, 55]"
      ]
     },
     "execution_count": 86,
     "metadata": {},
     "output_type": "execute_result"
    }
   ],
   "source": [
    "fibon(10)"
   ]
  },
  {
   "cell_type": "markdown",
   "id": "3208e181-7da1-4e8f-9e32-e791795e313d",
   "metadata": {},
   "source": [
    "**next() and iter() built-in functions**"
   ]
  },
  {
   "cell_type": "code",
   "execution_count": 87,
   "id": "44f82619-8fbd-4969-9f0c-a14af97c8b3c",
   "metadata": {},
   "outputs": [],
   "source": [
    "def simple_gen():\n",
    "    for x in range(3):\n",
    "        yield x"
   ]
  },
  {
   "cell_type": "code",
   "execution_count": 88,
   "id": "8b7b6f9b-b762-4b98-9f0c-2e9d486c60a1",
   "metadata": {},
   "outputs": [],
   "source": [
    "#Assign simple_gen():\n",
    "g=simple_gen()"
   ]
  },
  {
   "cell_type": "code",
   "execution_count": 89,
   "id": "a3ed6233-74eb-4f42-ac44-33b079d6b5ce",
   "metadata": {},
   "outputs": [
    {
     "name": "stdout",
     "output_type": "stream",
     "text": [
      "0\n"
     ]
    }
   ],
   "source": [
    "print(next(g))"
   ]
  },
  {
   "cell_type": "code",
   "execution_count": 90,
   "id": "b095a0de-a118-4e8b-9a27-f59af0d1c44b",
   "metadata": {},
   "outputs": [
    {
     "name": "stdout",
     "output_type": "stream",
     "text": [
      "1\n"
     ]
    }
   ],
   "source": [
    "print(next(g))"
   ]
  },
  {
   "cell_type": "code",
   "execution_count": 91,
   "id": "26dfac3b-5f20-4a4e-912e-6bef6207d98c",
   "metadata": {},
   "outputs": [
    {
     "name": "stdout",
     "output_type": "stream",
     "text": [
      "2\n"
     ]
    }
   ],
   "source": [
    "print(next(g))"
   ]
  },
  {
   "cell_type": "code",
   "execution_count": 92,
   "id": "828d2a50-a5f9-48a1-b3bb-be78f5f0ce37",
   "metadata": {},
   "outputs": [
    {
     "ename": "StopIteration",
     "evalue": "",
     "output_type": "error",
     "traceback": [
      "\u001b[1;31m---------------------------------------------------------------------------\u001b[0m",
      "\u001b[1;31mStopIteration\u001b[0m                             Traceback (most recent call last)",
      "Cell \u001b[1;32mIn[92], line 1\u001b[0m\n\u001b[1;32m----> 1\u001b[0m \u001b[38;5;28mprint\u001b[39m(\u001b[38;5;28;43mnext\u001b[39;49m\u001b[43m(\u001b[49m\u001b[43mg\u001b[49m\u001b[43m)\u001b[49m)\n",
      "\u001b[1;31mStopIteration\u001b[0m: "
     ]
    }
   ],
   "source": [
    "print(next(g))"
   ]
  },
  {
   "cell_type": "code",
   "execution_count": 93,
   "id": "d5acf0c2-89e5-48ca-9b9e-c676c1cc9cd1",
   "metadata": {},
   "outputs": [
    {
     "name": "stdout",
     "output_type": "stream",
     "text": [
      "h\n",
      "e\n",
      "l\n",
      "l\n",
      "o\n"
     ]
    }
   ],
   "source": [
    "s='hello'\n",
    "#iterate over string\n",
    "for let in s:\n",
    "    print(let)"
   ]
  },
  {
   "cell_type": "code",
   "execution_count": 94,
   "id": "cac6211b-bde5-4b76-a8c7-821049a04b8b",
   "metadata": {},
   "outputs": [
    {
     "ename": "TypeError",
     "evalue": "'str' object is not an iterator",
     "output_type": "error",
     "traceback": [
      "\u001b[1;31m---------------------------------------------------------------------------\u001b[0m",
      "\u001b[1;31mTypeError\u001b[0m                                 Traceback (most recent call last)",
      "Cell \u001b[1;32mIn[94], line 1\u001b[0m\n\u001b[1;32m----> 1\u001b[0m \u001b[38;5;28;43mnext\u001b[39;49m\u001b[43m(\u001b[49m\u001b[43ms\u001b[49m\u001b[43m)\u001b[49m\n",
      "\u001b[1;31mTypeError\u001b[0m: 'str' object is not an iterator"
     ]
    }
   ],
   "source": [
    "next(s)"
   ]
  },
  {
   "cell_type": "code",
   "execution_count": 95,
   "id": "e5ab9def-30aa-4a58-9da5-dc47b1a17cb6",
   "metadata": {},
   "outputs": [],
   "source": [
    "s_iter=iter(s)"
   ]
  },
  {
   "cell_type": "code",
   "execution_count": 96,
   "id": "0944b0a8-365f-445f-b205-c67e1ff7cb28",
   "metadata": {},
   "outputs": [
    {
     "data": {
      "text/plain": [
       "'h'"
      ]
     },
     "execution_count": 96,
     "metadata": {},
     "output_type": "execute_result"
    }
   ],
   "source": [
    "next(s_iter)"
   ]
  },
  {
   "cell_type": "code",
   "execution_count": 97,
   "id": "cf1b9025-3012-4ca6-b0b9-50446cac8c5c",
   "metadata": {},
   "outputs": [
    {
     "data": {
      "text/plain": [
       "'e'"
      ]
     },
     "execution_count": 97,
     "metadata": {},
     "output_type": "execute_result"
    }
   ],
   "source": [
    "next(s_iter)"
   ]
  },
  {
   "cell_type": "markdown",
   "id": "4b5f57e9-ce8c-42b6-8cbd-30ffc9e75efe",
   "metadata": {},
   "source": [
    "**Map**"
   ]
  },
  {
   "cell_type": "code",
   "execution_count": 99,
   "id": "a4504591-ea89-4a8e-ae91-6b06d55e7180",
   "metadata": {},
   "outputs": [],
   "source": [
    "def fahrenheit(T):\n",
    "    return ((float(9)/5)*T+32)\n",
    "def celsius(T):\n",
    "    return (float(5)/9)*(T-32)\n",
    "temp=[0,22.5,40,100]"
   ]
  },
  {
   "cell_type": "code",
   "execution_count": 100,
   "id": "5b7d9c61-6c4e-47e8-bc02-98166724492c",
   "metadata": {},
   "outputs": [
    {
     "data": {
      "text/plain": [
       "[32.0, 72.5, 104.0, 212.0]"
      ]
     },
     "execution_count": 100,
     "metadata": {},
     "output_type": "execute_result"
    }
   ],
   "source": [
    "F_temps=list(map(fahrenheit,temp))\n",
    "F_temps"
   ]
  },
  {
   "cell_type": "code",
   "execution_count": 103,
   "id": "e3939750-1703-4b13-b900-78ba261f55d0",
   "metadata": {},
   "outputs": [
    {
     "data": {
      "text/plain": [
       "[0.0, 22.5, 40.0, 100.0]"
      ]
     },
     "execution_count": 103,
     "metadata": {},
     "output_type": "execute_result"
    }
   ],
   "source": [
    "#convergt back\n",
    "list(map(celsius,F_temps))"
   ]
  },
  {
   "cell_type": "code",
   "execution_count": 104,
   "id": "f7ac84a9-3c88-4b14-a9f0-3964cf6b117b",
   "metadata": {},
   "outputs": [
    {
     "data": {
      "text/plain": [
       "[0.0, 22.5, 40.0, 100.0]"
      ]
     },
     "execution_count": 104,
     "metadata": {},
     "output_type": "execute_result"
    }
   ],
   "source": [
    "list(map(lambda x:(5.0/9)*(x-32),F_temps))"
   ]
  },
  {
   "cell_type": "code",
   "execution_count": 106,
   "id": "64cb3d5d-3852-45b9-9fd3-ed25520e2960",
   "metadata": {},
   "outputs": [
    {
     "data": {
      "text/plain": [
       "[6, 8, 10, 12]"
      ]
     },
     "execution_count": 106,
     "metadata": {},
     "output_type": "execute_result"
    }
   ],
   "source": [
    "#example\n",
    "a=[1,2,3,4]\n",
    "b=[5,6,7,8]\n",
    "c=[9,10,11,12]\n",
    "list(map(lambda x,y:x+y,a,b))"
   ]
  },
  {
   "cell_type": "code",
   "execution_count": 108,
   "id": "27fd6233-93b8-4acc-8c03-585620f21af3",
   "metadata": {},
   "outputs": [
    {
     "data": {
      "text/plain": [
       "[15, 18, 21, 24]"
      ]
     },
     "execution_count": 108,
     "metadata": {},
     "output_type": "execute_result"
    }
   ],
   "source": [
    "#Now all three lists\n",
    "list(map(lambda x,y,z:x+y+z, a,b,c))"
   ]
  },
  {
   "cell_type": "markdown",
   "id": "c76d6497-dfdf-4796-86f6-81b68f647c76",
   "metadata": {},
   "source": [
    "**reduce()**"
   ]
  },
  {
   "cell_type": "code",
   "execution_count": 109,
   "id": "f7ab8991-b786-4ba0-a9ea-52b2628f4fe1",
   "metadata": {},
   "outputs": [
    {
     "data": {
      "text/plain": [
       "113"
      ]
     },
     "execution_count": 109,
     "metadata": {},
     "output_type": "execute_result"
    }
   ],
   "source": [
    "from functools import reduce\n",
    "lst=[47,11,42,13]\n",
    "reduce(lambda x,y:x+y,lst)"
   ]
  },
  {
   "cell_type": "code",
   "execution_count": 112,
   "id": "471b3d37-368f-44d1-ad6e-799d0b6ebc9f",
   "metadata": {},
   "outputs": [],
   "source": [
    "#Find the maximum of a sequence \n",
    "max_find=lambda a,b: a if (a>b) else b"
   ]
  },
  {
   "cell_type": "code",
   "execution_count": 114,
   "id": "deef1dbe-2de7-42dc-b535-ba2c232e061c",
   "metadata": {},
   "outputs": [
    {
     "data": {
      "text/plain": [
       "47"
      ]
     },
     "execution_count": 114,
     "metadata": {},
     "output_type": "execute_result"
    }
   ],
   "source": [
    "reduce(lambda a,b: a if (a>b) else b,lst)"
   ]
  },
  {
   "cell_type": "markdown",
   "id": "c0974ad5-f5d9-4c84-aa15-fa14b037217d",
   "metadata": {},
   "source": [
    "**Filter**"
   ]
  },
  {
   "cell_type": "code",
   "execution_count": 115,
   "id": "1e38ee54-4689-4235-8d3a-3451123340d8",
   "metadata": {},
   "outputs": [],
   "source": [
    "# make a function\n",
    "def even_check(num):\n",
    "    if num%2==0:\n",
    "        return True"
   ]
  },
  {
   "cell_type": "code",
   "execution_count": 117,
   "id": "77d452f3-bac7-43ba-8ac3-854846adfcc3",
   "metadata": {},
   "outputs": [
    {
     "name": "stdout",
     "output_type": "stream",
     "text": [
      "[0, 1, 2, 3, 4, 5, 6, 7, 8, 9, 10, 11, 12, 13, 14, 15, 16, 17, 18, 19]\n"
     ]
    },
    {
     "data": {
      "text/plain": [
       "[0, 2, 4, 6, 8, 10, 12, 14, 16, 18]"
      ]
     },
     "execution_count": 117,
     "metadata": {},
     "output_type": "execute_result"
    }
   ],
   "source": [
    "lst=range(20)\n",
    "print(list(lst))\n",
    "list(filter(even_check,lst))"
   ]
  },
  {
   "cell_type": "code",
   "execution_count": 118,
   "id": "7c4ef1e8-d5e0-413e-ad44-2393a3794592",
   "metadata": {},
   "outputs": [
    {
     "data": {
      "text/plain": [
       "[0, 2, 4, 6, 8, 10, 12, 14, 16, 18]"
      ]
     },
     "execution_count": 118,
     "metadata": {},
     "output_type": "execute_result"
    }
   ],
   "source": [
    "list(filter(lambda x:x%2==0,lst))"
   ]
  },
  {
   "cell_type": "code",
   "execution_count": null,
   "id": "14c79c11-ae8b-4514-84ec-f94c633335ee",
   "metadata": {},
   "outputs": [],
   "source": [
    " "
   ]
  }
 ],
 "metadata": {
  "kernelspec": {
   "display_name": "Python 3 (ipykernel)",
   "language": "python",
   "name": "python3"
  },
  "language_info": {
   "codemirror_mode": {
    "name": "ipython",
    "version": 3
   },
   "file_extension": ".py",
   "mimetype": "text/x-python",
   "name": "python",
   "nbconvert_exporter": "python",
   "pygments_lexer": "ipython3",
   "version": "3.11.4"
  }
 },
 "nbformat": 4,
 "nbformat_minor": 5
}
