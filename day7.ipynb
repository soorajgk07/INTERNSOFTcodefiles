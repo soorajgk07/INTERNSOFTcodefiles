{
 "cells": [
  {
   "cell_type": "markdown",
   "id": "2c7b1c1a-5a3b-4903-aa35-c7c041990adb",
   "metadata": {},
   "source": [
    "**Pandas**"
   ]
  },
  {
   "cell_type": "code",
   "execution_count": 79,
   "id": "4debf3ce-905c-487e-943b-badc674f20f9",
   "metadata": {},
   "outputs": [
    {
     "data": {
      "text/plain": [
       "'2.2.2'"
      ]
     },
     "execution_count": 79,
     "metadata": {},
     "output_type": "execute_result"
    }
   ],
   "source": [
    "import pandas\n",
    "pandas.__version__"
   ]
  },
  {
   "cell_type": "markdown",
   "id": "ab6ef42d-cc33-4495-91cc-a6393a121545",
   "metadata": {},
   "source": [
    "**Introducing pandas objects**"
   ]
  },
  {
   "cell_type": "code",
   "execution_count": 80,
   "id": "6cf27439-6157-44ba-89b5-e45538cc5aa8",
   "metadata": {},
   "outputs": [],
   "source": [
    "import numpy as np\n",
    "import pandas as pd\n"
   ]
  },
  {
   "cell_type": "markdown",
   "id": "4e72f050-3b15-4725-80c8-d107d97cc1f1",
   "metadata": {},
   "source": [
    "**Series**"
   ]
  },
  {
   "cell_type": "code",
   "execution_count": 81,
   "id": "c7c50432-b0b3-4d60-ad64-8a985006d17f",
   "metadata": {},
   "outputs": [
    {
     "data": {
      "text/plain": [
       "0     426\n",
       "1    1256\n",
       "2     964\n",
       "3     135\n",
       "dtype: int64"
      ]
     },
     "execution_count": 81,
     "metadata": {},
     "output_type": "execute_result"
    }
   ],
   "source": [
    "counts=pd.Series([426,1256,964,135])\n",
    "counts"
   ]
  },
  {
   "cell_type": "code",
   "execution_count": 82,
   "id": "e06e16b5-1791-480a-a248-4b38fc2c4207",
   "metadata": {},
   "outputs": [
    {
     "data": {
      "text/plain": [
       "array([ 426, 1256,  964,  135])"
      ]
     },
     "execution_count": 82,
     "metadata": {},
     "output_type": "execute_result"
    }
   ],
   "source": [
    "counts.values"
   ]
  },
  {
   "cell_type": "code",
   "execution_count": 83,
   "id": "45d6700f-40a7-48ea-8a66-1d8872a81d4b",
   "metadata": {},
   "outputs": [
    {
     "data": {
      "text/plain": [
       "RangeIndex(start=0, stop=4, step=1)"
      ]
     },
     "execution_count": 83,
     "metadata": {},
     "output_type": "execute_result"
    }
   ],
   "source": [
    "counts.index"
   ]
  },
  {
   "cell_type": "markdown",
   "id": "aa9c6896-c1e2-4346-9945-bfe4eec9ff7b",
   "metadata": {},
   "source": [
    "**Assigning labels to index**"
   ]
  },
  {
   "cell_type": "code",
   "execution_count": 84,
   "id": "e0800952-0215-4b14-be32-5aa13039a38d",
   "metadata": {},
   "outputs": [
    {
     "data": {
      "text/plain": [
       "Firmicutes         426\n",
       "probacteria       1256\n",
       "Actinobacteria     964\n",
       "Bacteriodetes      135\n",
       "dtype: int64"
      ]
     },
     "execution_count": 84,
     "metadata": {},
     "output_type": "execute_result"
    }
   ],
   "source": [
    "bacteria=pd.Series([426,1256,964,135],\n",
    "    index=['Firmicutes','probacteria','Actinobacteria','Bacteriodetes'])\n",
    "bacteria"
   ]
  },
  {
   "cell_type": "code",
   "execution_count": 85,
   "id": "5ab3660d-50ae-49c1-95e4-beaf0e3ceccb",
   "metadata": {},
   "outputs": [
    {
     "name": "stdout",
     "output_type": "stream",
     "text": [
      "964\n"
     ]
    }
   ],
   "source": [
    "print(bacteria['Actinobacteria'])"
   ]
  },
  {
   "cell_type": "code",
   "execution_count": 86,
   "id": "f5860089-36b6-4e6e-a2bf-b23355480e46",
   "metadata": {},
   "outputs": [
    {
     "name": "stdout",
     "output_type": "stream",
     "text": [
      "426\n"
     ]
    },
    {
     "name": "stderr",
     "output_type": "stream",
     "text": [
      "C:\\Users\\soora\\AppData\\Local\\Temp\\ipykernel_13096\\3121876747.py:1: FutureWarning: Series.__getitem__ treating keys as positions is deprecated. In a future version, integer keys will always be treated as labels (consistent with DataFrame behavior). To access a value by position, use `ser.iloc[pos]`\n",
      "  print(bacteria[0])\n"
     ]
    }
   ],
   "source": [
    "print(bacteria[0])"
   ]
  },
  {
   "cell_type": "code",
   "execution_count": 87,
   "id": "78a6a520-36c7-4601-9f81-04f772f4cf90",
   "metadata": {},
   "outputs": [
    {
     "data": {
      "text/plain": [
       "phylum\n",
       "Firmicutes         426\n",
       "probacteria       1256\n",
       "Actinobacteria     964\n",
       "Bacteriodetes      135\n",
       "Name: counts, dtype: int64"
      ]
     },
     "execution_count": 87,
     "metadata": {},
     "output_type": "execute_result"
    }
   ],
   "source": [
    "bacteria.name='counts'\n",
    "bacteria.index.name='phylum'\n",
    "bacteria"
   ]
  },
  {
   "cell_type": "code",
   "execution_count": 88,
   "id": "e3513383-8db0-4b4a-bcd8-c9ca9b670bd1",
   "metadata": {},
   "outputs": [
    {
     "data": {
      "text/plain": [
       "phylum\n",
       "Firmicutes        6.054439\n",
       "probacteria       7.135687\n",
       "Actinobacteria    6.871091\n",
       "Bacteriodetes     4.905275\n",
       "Name: counts, dtype: float64"
      ]
     },
     "execution_count": 88,
     "metadata": {},
     "output_type": "execute_result"
    }
   ],
   "source": [
    "np.log(bacteria)"
   ]
  },
  {
   "cell_type": "code",
   "execution_count": 89,
   "id": "68f34a20-2e44-423a-8df2-1cf46d3fe411",
   "metadata": {},
   "outputs": [
    {
     "data": {
      "text/plain": [
       "phylum\n",
       "probacteria    1256\n",
       "Name: counts, dtype: int64"
      ]
     },
     "execution_count": 89,
     "metadata": {},
     "output_type": "execute_result"
    }
   ],
   "source": [
    "bacteria[bacteria>1000]"
   ]
  },
  {
   "cell_type": "code",
   "execution_count": 90,
   "id": "ce8a2629-4aee-4b5c-ac1e-842ee1538a1f",
   "metadata": {},
   "outputs": [
    {
     "name": "stdout",
     "output_type": "stream",
     "text": [
      "{'Firmicutes': 426, 'probacteria': 1256, 'Actinobacteria': 964, 'Bacteriodetes': 135}\n"
     ]
    }
   ],
   "source": [
    "bacteria_dict={'Firmicutes':426,'probacteria':1256,'Actinobacteria':964,'Bacteriodetes':135}\n",
    "print(bacteria_dict)"
   ]
  },
  {
   "cell_type": "code",
   "execution_count": 91,
   "id": "7ac38cf8-29ab-4820-a404-7b0124ae11ad",
   "metadata": {},
   "outputs": [
    {
     "data": {
      "text/plain": [
       "Firmicutes         426\n",
       "probacteria       1256\n",
       "Actinobacteria     964\n",
       "Bacteriodetes      135\n",
       "dtype: int64"
      ]
     },
     "execution_count": 91,
     "metadata": {},
     "output_type": "execute_result"
    }
   ],
   "source": [
    "pd.Series(bacteria_dict)"
   ]
  },
  {
   "cell_type": "markdown",
   "id": "1859f490-3c24-4d84-b205-ed47ee1c985a",
   "metadata": {},
   "source": [
    "**DataFrame:bi-dimensional series with two(or more)indices**"
   ]
  },
  {
   "cell_type": "code",
   "execution_count": 184,
   "id": "ee0266db-d285-4afc-8829-acdc0f8b5c7d",
   "metadata": {},
   "outputs": [
    {
     "name": "stdout",
     "output_type": "stream",
     "text": [
      "{'province': ['FL', 'FL', 'NH', 'NH', 'ZH'], 'year': [2013, 2014, 2013, 2014, 2014], 'Literacy': [0.2, 0.1, 0.5, 0.3, 0.5]}\n"
     ]
    },
    {
     "data": {
      "text/html": [
       "<div>\n",
       "<style scoped>\n",
       "    .dataframe tbody tr th:only-of-type {\n",
       "        vertical-align: middle;\n",
       "    }\n",
       "\n",
       "    .dataframe tbody tr th {\n",
       "        vertical-align: top;\n",
       "    }\n",
       "\n",
       "    .dataframe thead th {\n",
       "        text-align: right;\n",
       "    }\n",
       "</style>\n",
       "<table border=\"1\" class=\"dataframe\">\n",
       "  <thead>\n",
       "    <tr style=\"text-align: right;\">\n",
       "      <th></th>\n",
       "      <th>province</th>\n",
       "      <th>year</th>\n",
       "      <th>Literacy</th>\n",
       "    </tr>\n",
       "  </thead>\n",
       "  <tbody>\n",
       "    <tr>\n",
       "      <th>0</th>\n",
       "      <td>FL</td>\n",
       "      <td>2013</td>\n",
       "      <td>0.2</td>\n",
       "    </tr>\n",
       "    <tr>\n",
       "      <th>1</th>\n",
       "      <td>FL</td>\n",
       "      <td>2014</td>\n",
       "      <td>0.1</td>\n",
       "    </tr>\n",
       "    <tr>\n",
       "      <th>2</th>\n",
       "      <td>NH</td>\n",
       "      <td>2013</td>\n",
       "      <td>0.5</td>\n",
       "    </tr>\n",
       "    <tr>\n",
       "      <th>3</th>\n",
       "      <td>NH</td>\n",
       "      <td>2014</td>\n",
       "      <td>0.3</td>\n",
       "    </tr>\n",
       "    <tr>\n",
       "      <th>4</th>\n",
       "      <td>ZH</td>\n",
       "      <td>2014</td>\n",
       "      <td>0.5</td>\n",
       "    </tr>\n",
       "  </tbody>\n",
       "</table>\n",
       "</div>"
      ],
      "text/plain": [
       "  province  year  Literacy\n",
       "0       FL  2013       0.2\n",
       "1       FL  2014       0.1\n",
       "2       NH  2013       0.5\n",
       "3       NH  2014       0.3\n",
       "4       ZH  2014       0.5"
      ]
     },
     "execution_count": 184,
     "metadata": {},
     "output_type": "execute_result"
    }
   ],
   "source": [
    "data={\"province\":[\"FL\",\"FL\",\"NH\",\"NH\",\"ZH\"],\n",
    "      \"year\":[2013,2014,2013,2014,2014],\n",
    "      \"Literacy\":[0.2,0.1,0.5,0.3,0.5]}\n",
    "print(data)\n",
    "data=pd.DataFrame(data)\n",
    "data"
   ]
  },
  {
   "cell_type": "code",
   "execution_count": 185,
   "id": "94586525-f3cb-4532-9f68-de9b5dacf00f",
   "metadata": {},
   "outputs": [
    {
     "data": {
      "text/html": [
       "<div>\n",
       "<style scoped>\n",
       "    .dataframe tbody tr th:only-of-type {\n",
       "        vertical-align: middle;\n",
       "    }\n",
       "\n",
       "    .dataframe tbody tr th {\n",
       "        vertical-align: top;\n",
       "    }\n",
       "\n",
       "    .dataframe thead th {\n",
       "        text-align: right;\n",
       "    }\n",
       "</style>\n",
       "<table border=\"1\" class=\"dataframe\">\n",
       "  <thead>\n",
       "    <tr style=\"text-align: right;\">\n",
       "      <th></th>\n",
       "      <th>Literacy</th>\n",
       "      <th>province</th>\n",
       "      <th>year</th>\n",
       "    </tr>\n",
       "  </thead>\n",
       "  <tbody>\n",
       "    <tr>\n",
       "      <th>0</th>\n",
       "      <td>0.2</td>\n",
       "      <td>FL</td>\n",
       "      <td>2013</td>\n",
       "    </tr>\n",
       "    <tr>\n",
       "      <th>1</th>\n",
       "      <td>0.1</td>\n",
       "      <td>FL</td>\n",
       "      <td>2014</td>\n",
       "    </tr>\n",
       "    <tr>\n",
       "      <th>2</th>\n",
       "      <td>0.5</td>\n",
       "      <td>NH</td>\n",
       "      <td>2013</td>\n",
       "    </tr>\n",
       "    <tr>\n",
       "      <th>3</th>\n",
       "      <td>0.3</td>\n",
       "      <td>NH</td>\n",
       "      <td>2014</td>\n",
       "    </tr>\n",
       "    <tr>\n",
       "      <th>4</th>\n",
       "      <td>0.5</td>\n",
       "      <td>ZH</td>\n",
       "      <td>2014</td>\n",
       "    </tr>\n",
       "  </tbody>\n",
       "</table>\n",
       "</div>"
      ],
      "text/plain": [
       "   Literacy province  year\n",
       "0       0.2       FL  2013\n",
       "1       0.1       FL  2014\n",
       "2       0.5       NH  2013\n",
       "3       0.3       NH  2014\n",
       "4       0.5       ZH  2014"
      ]
     },
     "execution_count": 185,
     "metadata": {},
     "output_type": "execute_result"
    }
   ],
   "source": [
    "df=pd.DataFrame(data,columns=[\"Literacy\",\"province\",\"year\"])\n",
    "df"
   ]
  },
  {
   "cell_type": "code",
   "execution_count": 186,
   "id": "c31cf1da-fb54-4fee-a284-d72e88b540b3",
   "metadata": {},
   "outputs": [
    {
     "data": {
      "text/html": [
       "<div>\n",
       "<style scoped>\n",
       "    .dataframe tbody tr th:only-of-type {\n",
       "        vertical-align: middle;\n",
       "    }\n",
       "\n",
       "    .dataframe tbody tr th {\n",
       "        vertical-align: top;\n",
       "    }\n",
       "\n",
       "    .dataframe thead th {\n",
       "        text-align: right;\n",
       "    }\n",
       "</style>\n",
       "<table border=\"1\" class=\"dataframe\">\n",
       "  <thead>\n",
       "    <tr style=\"text-align: right;\">\n",
       "      <th></th>\n",
       "      <th>Literacy</th>\n",
       "      <th>province</th>\n",
       "      <th>year</th>\n",
       "      <th>nonsense</th>\n",
       "    </tr>\n",
       "  </thead>\n",
       "  <tbody>\n",
       "    <tr>\n",
       "      <th>0</th>\n",
       "      <td>0.2</td>\n",
       "      <td>FL</td>\n",
       "      <td>2013</td>\n",
       "      <td>10065.000000</td>\n",
       "    </tr>\n",
       "    <tr>\n",
       "      <th>1</th>\n",
       "      <td>0.1</td>\n",
       "      <td>FL</td>\n",
       "      <td>2014</td>\n",
       "      <td>20140.000000</td>\n",
       "    </tr>\n",
       "    <tr>\n",
       "      <th>2</th>\n",
       "      <td>0.5</td>\n",
       "      <td>NH</td>\n",
       "      <td>2013</td>\n",
       "      <td>4026.000000</td>\n",
       "    </tr>\n",
       "    <tr>\n",
       "      <th>3</th>\n",
       "      <td>0.3</td>\n",
       "      <td>NH</td>\n",
       "      <td>2014</td>\n",
       "      <td>6713.333333</td>\n",
       "    </tr>\n",
       "    <tr>\n",
       "      <th>4</th>\n",
       "      <td>0.5</td>\n",
       "      <td>ZH</td>\n",
       "      <td>2014</td>\n",
       "      <td>4028.000000</td>\n",
       "    </tr>\n",
       "  </tbody>\n",
       "</table>\n",
       "</div>"
      ],
      "text/plain": [
       "   Literacy province  year      nonsense\n",
       "0       0.2       FL  2013  10065.000000\n",
       "1       0.1       FL  2014  20140.000000\n",
       "2       0.5       NH  2013   4026.000000\n",
       "3       0.3       NH  2014   6713.333333\n",
       "4       0.5       ZH  2014   4028.000000"
      ]
     },
     "execution_count": 186,
     "metadata": {},
     "output_type": "execute_result"
    }
   ],
   "source": [
    "df['nonsense']=df.year/df.Literacy\n",
    "df"
   ]
  },
  {
   "cell_type": "code",
   "execution_count": 183,
   "id": "8a154aa4-f07c-44b6-b2cc-84bc40db6c77",
   "metadata": {},
   "outputs": [
    {
     "data": {
      "text/plain": [
       "{'aa': {0: 1.0, 1: nan},\n",
       " 'bb': {0: 2, 1: 3},\n",
       " 'cc': {0: nan, 1: 6.0},\n",
       " 'Serie_aligned': 0    0\n",
       " 1    1\n",
       " 2    2\n",
       " 3    3\n",
       " 4    4\n",
       " dtype: int64}"
      ]
     },
     "execution_count": 183,
     "metadata": {},
     "output_type": "execute_result"
    }
   ],
   "source": [
    "df['Serie_aligned']=pd.Series(range(5),index=[0,1,2,3,4])\n",
    "df"
   ]
  },
  {
   "cell_type": "code",
   "execution_count": 190,
   "id": "ea9963e8-e820-4c41-93cf-4f2305f1bcc8",
   "metadata": {},
   "outputs": [
    {
     "data": {
      "text/plain": [
       "{'Literacy': {0: 0.2, 1: 0.1, 2: 0.5, 3: 0.3, 4: 0.5},\n",
       " 'province': {0: 'FL', 1: 'FL', 2: 'NH', 3: 'NH', 4: 'ZH'},\n",
       " 'year': {0: 2013, 1: 2014, 2: 2013, 3: 2014, 4: 2014},\n",
       " 'nonsense': {0: 10065.0,\n",
       "  1: 20140.0,\n",
       "  2: 4026.0,\n",
       "  3: 6713.333333333334,\n",
       "  4: 4028.0}}"
      ]
     },
     "execution_count": 190,
     "metadata": {},
     "output_type": "execute_result"
    }
   ],
   "source": [
    "df.to_dict()"
   ]
  },
  {
   "cell_type": "code",
   "execution_count": 191,
   "id": "b43be0ae-47fd-4d3b-9661-4e5a1570c82b",
   "metadata": {},
   "outputs": [
    {
     "data": {
      "text/html": [
       "<div>\n",
       "<style scoped>\n",
       "    .dataframe tbody tr th:only-of-type {\n",
       "        vertical-align: middle;\n",
       "    }\n",
       "\n",
       "    .dataframe tbody tr th {\n",
       "        vertical-align: top;\n",
       "    }\n",
       "\n",
       "    .dataframe thead th {\n",
       "        text-align: right;\n",
       "    }\n",
       "</style>\n",
       "<table border=\"1\" class=\"dataframe\">\n",
       "  <thead>\n",
       "    <tr style=\"text-align: right;\">\n",
       "      <th></th>\n",
       "      <th>Literacy</th>\n",
       "      <th>province</th>\n",
       "      <th>year</th>\n",
       "      <th>nonsense</th>\n",
       "    </tr>\n",
       "  </thead>\n",
       "  <tbody>\n",
       "    <tr>\n",
       "      <th>0</th>\n",
       "      <td>0.2</td>\n",
       "      <td>FL</td>\n",
       "      <td>2013</td>\n",
       "      <td>10065.000000</td>\n",
       "    </tr>\n",
       "    <tr>\n",
       "      <th>1</th>\n",
       "      <td>0.1</td>\n",
       "      <td>FL</td>\n",
       "      <td>2014</td>\n",
       "      <td>20140.000000</td>\n",
       "    </tr>\n",
       "    <tr>\n",
       "      <th>2</th>\n",
       "      <td>0.5</td>\n",
       "      <td>NH</td>\n",
       "      <td>2013</td>\n",
       "      <td>4026.000000</td>\n",
       "    </tr>\n",
       "    <tr>\n",
       "      <th>3</th>\n",
       "      <td>0.3</td>\n",
       "      <td>NH</td>\n",
       "      <td>2014</td>\n",
       "      <td>6713.333333</td>\n",
       "    </tr>\n",
       "    <tr>\n",
       "      <th>4</th>\n",
       "      <td>0.5</td>\n",
       "      <td>ZH</td>\n",
       "      <td>2014</td>\n",
       "      <td>4028.000000</td>\n",
       "    </tr>\n",
       "  </tbody>\n",
       "</table>\n",
       "</div>"
      ],
      "text/plain": [
       "   Literacy province  year      nonsense\n",
       "0       0.2       FL  2013  10065.000000\n",
       "1       0.1       FL  2014  20140.000000\n",
       "2       0.5       NH  2013   4026.000000\n",
       "3       0.3       NH  2014   6713.333333\n",
       "4       0.5       ZH  2014   4028.000000"
      ]
     },
     "execution_count": 191,
     "metadata": {},
     "output_type": "execute_result"
    }
   ],
   "source": [
    "pd.DataFrame(df.to_dict())"
   ]
  },
  {
   "cell_type": "markdown",
   "id": "bb4f10fc-b553-4bc3-a144-51b581ab5507",
   "metadata": {},
   "source": [
    "**DataFrame as specialised dictionary**"
   ]
  },
  {
   "cell_type": "markdown",
   "id": "48217553-ff82-4510-ab99-ab47836af41f",
   "metadata": {},
   "source": [
    "**from a list of dicts**"
   ]
  },
  {
   "cell_type": "code",
   "execution_count": 153,
   "id": "b4c2e572-7280-4748-889b-e896266cabef",
   "metadata": {},
   "outputs": [
    {
     "name": "stdout",
     "output_type": "stream",
     "text": [
      "[{'a': 0, 'b': 0}, {'a': 1, 'b': 10}, {'a': 2, 'b': 20}, {'a': 3, 'b': 30}, {'a': 4, 'b': 40}, {'a': 5, 'b': 50}]\n"
     ]
    },
    {
     "data": {
      "text/html": [
       "<div>\n",
       "<style scoped>\n",
       "    .dataframe tbody tr th:only-of-type {\n",
       "        vertical-align: middle;\n",
       "    }\n",
       "\n",
       "    .dataframe tbody tr th {\n",
       "        vertical-align: top;\n",
       "    }\n",
       "\n",
       "    .dataframe thead th {\n",
       "        text-align: right;\n",
       "    }\n",
       "</style>\n",
       "<table border=\"1\" class=\"dataframe\">\n",
       "  <thead>\n",
       "    <tr style=\"text-align: right;\">\n",
       "      <th></th>\n",
       "      <th>a</th>\n",
       "      <th>b</th>\n",
       "    </tr>\n",
       "  </thead>\n",
       "  <tbody>\n",
       "    <tr>\n",
       "      <th>0</th>\n",
       "      <td>0</td>\n",
       "      <td>0</td>\n",
       "    </tr>\n",
       "    <tr>\n",
       "      <th>1</th>\n",
       "      <td>1</td>\n",
       "      <td>10</td>\n",
       "    </tr>\n",
       "    <tr>\n",
       "      <th>2</th>\n",
       "      <td>2</td>\n",
       "      <td>20</td>\n",
       "    </tr>\n",
       "    <tr>\n",
       "      <th>3</th>\n",
       "      <td>3</td>\n",
       "      <td>30</td>\n",
       "    </tr>\n",
       "    <tr>\n",
       "      <th>4</th>\n",
       "      <td>4</td>\n",
       "      <td>40</td>\n",
       "    </tr>\n",
       "    <tr>\n",
       "      <th>5</th>\n",
       "      <td>5</td>\n",
       "      <td>50</td>\n",
       "    </tr>\n",
       "  </tbody>\n",
       "</table>\n",
       "</div>"
      ],
      "text/plain": [
       "   a   b\n",
       "0  0   0\n",
       "1  1  10\n",
       "2  2  20\n",
       "3  3  30\n",
       "4  4  40\n",
       "5  5  50"
      ]
     },
     "execution_count": 153,
     "metadata": {},
     "output_type": "execute_result"
    }
   ],
   "source": [
    "data=[{'a':i,'b':10*i}for i in range(6)]\n",
    "print(data)\n",
    "pd.DataFrame(data)"
   ]
  },
  {
   "cell_type": "code",
   "execution_count": 154,
   "id": "a66799ca-f9a6-4210-8e06-15d4a537bd97",
   "metadata": {},
   "outputs": [
    {
     "data": {
      "text/plain": [
       "{'aa': {0: 1.0, 1: nan}, 'bb': {0: 2, 1: 3}, 'cc': {0: nan, 1: 6.0}}"
      ]
     },
     "execution_count": 154,
     "metadata": {},
     "output_type": "execute_result"
    }
   ],
   "source": [
    "df=pd.DataFrame([{'aa':1,'bb':2},{'bb':3,'cc':6}])\n",
    "df=df.to_dict()\n",
    "df"
   ]
  },
  {
   "cell_type": "markdown",
   "id": "7cde9a5d-9fe0-472e-b2c1-d45d71ed295e",
   "metadata": {},
   "source": [
    "**from a two_dimensional numpy array**"
   ]
  },
  {
   "cell_type": "code",
   "execution_count": 155,
   "id": "5a14ba2a-8d08-4dc4-a2e2-8ab44a8831e6",
   "metadata": {},
   "outputs": [
    {
     "data": {
      "text/html": [
       "<div>\n",
       "<style scoped>\n",
       "    .dataframe tbody tr th:only-of-type {\n",
       "        vertical-align: middle;\n",
       "    }\n",
       "\n",
       "    .dataframe tbody tr th {\n",
       "        vertical-align: top;\n",
       "    }\n",
       "\n",
       "    .dataframe thead th {\n",
       "        text-align: right;\n",
       "    }\n",
       "</style>\n",
       "<table border=\"1\" class=\"dataframe\">\n",
       "  <thead>\n",
       "    <tr style=\"text-align: right;\">\n",
       "      <th></th>\n",
       "      <th>foo</th>\n",
       "      <th>bar</th>\n",
       "    </tr>\n",
       "  </thead>\n",
       "  <tbody>\n",
       "    <tr>\n",
       "      <th>a</th>\n",
       "      <td>8</td>\n",
       "      <td>8</td>\n",
       "    </tr>\n",
       "    <tr>\n",
       "      <th>b</th>\n",
       "      <td>8</td>\n",
       "      <td>8</td>\n",
       "    </tr>\n",
       "    <tr>\n",
       "      <th>c</th>\n",
       "      <td>8</td>\n",
       "      <td>8</td>\n",
       "    </tr>\n",
       "  </tbody>\n",
       "</table>\n",
       "</div>"
      ],
      "text/plain": [
       "   foo  bar\n",
       "a    8    8\n",
       "b    8    8\n",
       "c    8    8"
      ]
     },
     "execution_count": 155,
     "metadata": {},
     "output_type": "execute_result"
    }
   ],
   "source": [
    "pd.DataFrame(np.random.randint(2,12),\n",
    "             columns=['foo','bar'],\n",
    "             index=['a','b','c'])"
   ]
  },
  {
   "cell_type": "markdown",
   "id": "35345956-ef64-4e30-b485-a7ca0c969326",
   "metadata": {},
   "source": [
    "**The pandas Index Object**"
   ]
  },
  {
   "cell_type": "code",
   "execution_count": 156,
   "id": "e60d39fc-141b-4148-a32c-3e8822bd4bba",
   "metadata": {},
   "outputs": [
    {
     "data": {
      "text/plain": [
       "Index([20, 34, 57, 7, 1, 8], dtype='int64')"
      ]
     },
     "execution_count": 156,
     "metadata": {},
     "output_type": "execute_result"
    }
   ],
   "source": [
    "ind=pd.Index([20,34,57,7,1,8])\n",
    "ind"
   ]
  },
  {
   "cell_type": "markdown",
   "id": "91197fac-6692-4636-9fbf-1ef5d5d4dbc6",
   "metadata": {},
   "source": [
    "**Index as immutable array**"
   ]
  },
  {
   "cell_type": "code",
   "execution_count": 157,
   "id": "9304eec8-b685-4734-86f0-e675363aff88",
   "metadata": {},
   "outputs": [
    {
     "data": {
      "text/plain": [
       "np.int64(34)"
      ]
     },
     "execution_count": 157,
     "metadata": {},
     "output_type": "execute_result"
    }
   ],
   "source": [
    "ind[1]"
   ]
  },
  {
   "cell_type": "code",
   "execution_count": 158,
   "id": "574e93bb-8899-4914-a19f-29d7f0d7b0d7",
   "metadata": {},
   "outputs": [
    {
     "data": {
      "text/plain": [
       "Index([34, 7], dtype='int64')"
      ]
     },
     "execution_count": 158,
     "metadata": {},
     "output_type": "execute_result"
    }
   ],
   "source": [
    "ind[1:4:2]"
   ]
  },
  {
   "cell_type": "code",
   "execution_count": 159,
   "id": "cca25429-feba-4328-86f0-da914b0c2faf",
   "metadata": {},
   "outputs": [
    {
     "name": "stdout",
     "output_type": "stream",
     "text": [
      "6 (6,) 1 int64\n"
     ]
    }
   ],
   "source": [
    "print(ind.size,ind.shape,ind.ndim,ind.dtype)"
   ]
  },
  {
   "cell_type": "code",
   "execution_count": 160,
   "id": "bb5e2479-eef8-4dff-ba68-f34679361da6",
   "metadata": {},
   "outputs": [
    {
     "ename": "TypeError",
     "evalue": "Index does not support mutable operations",
     "output_type": "error",
     "traceback": [
      "\u001b[1;31m---------------------------------------------------------------------------\u001b[0m",
      "\u001b[1;31mTypeError\u001b[0m                                 Traceback (most recent call last)",
      "Cell \u001b[1;32mIn[160], line 1\u001b[0m\n\u001b[1;32m----> 1\u001b[0m \u001b[43mind\u001b[49m\u001b[43m[\u001b[49m\u001b[38;5;241;43m1\u001b[39;49m\u001b[43m]\u001b[49m\u001b[38;5;241m=\u001b[39m\u001b[38;5;241m0\u001b[39m\n",
      "File \u001b[1;32m~\\AppData\\Local\\Programs\\Python\\Python311\\Lib\\site-packages\\pandas\\core\\indexes\\base.py:5371\u001b[0m, in \u001b[0;36mIndex.__setitem__\u001b[1;34m(self, key, value)\u001b[0m\n\u001b[0;32m   5369\u001b[0m \u001b[38;5;129m@final\u001b[39m\n\u001b[0;32m   5370\u001b[0m \u001b[38;5;28;01mdef\u001b[39;00m \u001b[38;5;21m__setitem__\u001b[39m(\u001b[38;5;28mself\u001b[39m, key, value) \u001b[38;5;241m-\u001b[39m\u001b[38;5;241m>\u001b[39m \u001b[38;5;28;01mNone\u001b[39;00m:\n\u001b[1;32m-> 5371\u001b[0m     \u001b[38;5;28;01mraise\u001b[39;00m \u001b[38;5;167;01mTypeError\u001b[39;00m(\u001b[38;5;124m\"\u001b[39m\u001b[38;5;124mIndex does not support mutable operations\u001b[39m\u001b[38;5;124m\"\u001b[39m)\n",
      "\u001b[1;31mTypeError\u001b[0m: Index does not support mutable operations"
     ]
    }
   ],
   "source": [
    "ind[1]=0"
   ]
  },
  {
   "cell_type": "markdown",
   "id": "fff597e3-76c6-4312-974d-0668d2d2f37f",
   "metadata": {},
   "source": [
    "**Operating on Data in Pandas**"
   ]
  },
  {
   "cell_type": "markdown",
   "id": "57ec549a-d4ae-4bf9-ba68-3e72dbd58653",
   "metadata": {},
   "source": [
    "**Ufuncs:Index Preservation**\n"
   ]
  },
  {
   "cell_type": "code",
   "execution_count": 161,
   "id": "1e596e2f-5d89-4fb2-952e-e60ce11a52bb",
   "metadata": {},
   "outputs": [
    {
     "data": {
      "text/plain": [
       "0    8\n",
       "1    5\n",
       "2    5\n",
       "3    7\n",
       "dtype: int32"
      ]
     },
     "execution_count": 161,
     "metadata": {},
     "output_type": "execute_result"
    }
   ],
   "source": [
    "rng=np.random.RandomState(15)\n",
    "ser=pd.Series(rng.randint(0,10,4))\n",
    "ser"
   ]
  },
  {
   "cell_type": "code",
   "execution_count": 162,
   "id": "41ff1b36-dbc7-4cae-b2f5-5223f03da4f7",
   "metadata": {},
   "outputs": [
    {
     "data": {
      "text/html": [
       "<div>\n",
       "<style scoped>\n",
       "    .dataframe tbody tr th:only-of-type {\n",
       "        vertical-align: middle;\n",
       "    }\n",
       "\n",
       "    .dataframe tbody tr th {\n",
       "        vertical-align: top;\n",
       "    }\n",
       "\n",
       "    .dataframe thead th {\n",
       "        text-align: right;\n",
       "    }\n",
       "</style>\n",
       "<table border=\"1\" class=\"dataframe\">\n",
       "  <thead>\n",
       "    <tr style=\"text-align: right;\">\n",
       "      <th></th>\n",
       "      <th>A</th>\n",
       "      <th>B</th>\n",
       "      <th>C</th>\n",
       "      <th>D</th>\n",
       "    </tr>\n",
       "  </thead>\n",
       "  <tbody>\n",
       "    <tr>\n",
       "      <th>0</th>\n",
       "      <td>0</td>\n",
       "      <td>7</td>\n",
       "      <td>5</td>\n",
       "      <td>6</td>\n",
       "    </tr>\n",
       "    <tr>\n",
       "      <th>1</th>\n",
       "      <td>1</td>\n",
       "      <td>7</td>\n",
       "      <td>0</td>\n",
       "      <td>4</td>\n",
       "    </tr>\n",
       "    <tr>\n",
       "      <th>2</th>\n",
       "      <td>9</td>\n",
       "      <td>7</td>\n",
       "      <td>5</td>\n",
       "      <td>3</td>\n",
       "    </tr>\n",
       "    <tr>\n",
       "      <th>3</th>\n",
       "      <td>6</td>\n",
       "      <td>8</td>\n",
       "      <td>2</td>\n",
       "      <td>1</td>\n",
       "    </tr>\n",
       "    <tr>\n",
       "      <th>4</th>\n",
       "      <td>1</td>\n",
       "      <td>0</td>\n",
       "      <td>5</td>\n",
       "      <td>2</td>\n",
       "    </tr>\n",
       "  </tbody>\n",
       "</table>\n",
       "</div>"
      ],
      "text/plain": [
       "   A  B  C  D\n",
       "0  0  7  5  6\n",
       "1  1  7  0  4\n",
       "2  9  7  5  3\n",
       "3  6  8  2  1\n",
       "4  1  0  5  2"
      ]
     },
     "execution_count": 162,
     "metadata": {},
     "output_type": "execute_result"
    }
   ],
   "source": [
    "dfr=pd.DataFrame(rng.randint(0,10,(5,4)),\n",
    "                 columns=['A','B','C','D'])\n",
    "dfr"
   ]
  },
  {
   "cell_type": "code",
   "execution_count": 163,
   "id": "0f25259a-6b2b-4ee8-948d-8be85af5c9b7",
   "metadata": {},
   "outputs": [
    {
     "data": {
      "text/plain": [
       "0    2980.957987\n",
       "1     148.413159\n",
       "2     148.413159\n",
       "3    1096.633158\n",
       "dtype: float64"
      ]
     },
     "execution_count": 163,
     "metadata": {},
     "output_type": "execute_result"
    }
   ],
   "source": [
    "np.exp(ser)"
   ]
  },
  {
   "cell_type": "code",
   "execution_count": 164,
   "id": "9cc5b533-80f5-481f-b6a1-a5527f5bfc74",
   "metadata": {},
   "outputs": [
    {
     "data": {
      "text/html": [
       "<div>\n",
       "<style scoped>\n",
       "    .dataframe tbody tr th:only-of-type {\n",
       "        vertical-align: middle;\n",
       "    }\n",
       "\n",
       "    .dataframe tbody tr th {\n",
       "        vertical-align: top;\n",
       "    }\n",
       "\n",
       "    .dataframe thead th {\n",
       "        text-align: right;\n",
       "    }\n",
       "</style>\n",
       "<table border=\"1\" class=\"dataframe\">\n",
       "  <thead>\n",
       "    <tr style=\"text-align: right;\">\n",
       "      <th></th>\n",
       "      <th>A</th>\n",
       "      <th>B</th>\n",
       "      <th>C</th>\n",
       "      <th>D</th>\n",
       "    </tr>\n",
       "  </thead>\n",
       "  <tbody>\n",
       "    <tr>\n",
       "      <th>0</th>\n",
       "      <td>0.000000</td>\n",
       "      <td>-7.071068e-01</td>\n",
       "      <td>-0.707107</td>\n",
       "      <td>-1.000000e+00</td>\n",
       "    </tr>\n",
       "    <tr>\n",
       "      <th>1</th>\n",
       "      <td>0.707107</td>\n",
       "      <td>-7.071068e-01</td>\n",
       "      <td>0.000000</td>\n",
       "      <td>1.224647e-16</td>\n",
       "    </tr>\n",
       "    <tr>\n",
       "      <th>2</th>\n",
       "      <td>0.707107</td>\n",
       "      <td>-7.071068e-01</td>\n",
       "      <td>-0.707107</td>\n",
       "      <td>7.071068e-01</td>\n",
       "    </tr>\n",
       "    <tr>\n",
       "      <th>3</th>\n",
       "      <td>-1.000000</td>\n",
       "      <td>-2.449294e-16</td>\n",
       "      <td>1.000000</td>\n",
       "      <td>7.071068e-01</td>\n",
       "    </tr>\n",
       "    <tr>\n",
       "      <th>4</th>\n",
       "      <td>0.707107</td>\n",
       "      <td>0.000000e+00</td>\n",
       "      <td>-0.707107</td>\n",
       "      <td>1.000000e+00</td>\n",
       "    </tr>\n",
       "  </tbody>\n",
       "</table>\n",
       "</div>"
      ],
      "text/plain": [
       "          A             B         C             D\n",
       "0  0.000000 -7.071068e-01 -0.707107 -1.000000e+00\n",
       "1  0.707107 -7.071068e-01  0.000000  1.224647e-16\n",
       "2  0.707107 -7.071068e-01 -0.707107  7.071068e-01\n",
       "3 -1.000000 -2.449294e-16  1.000000  7.071068e-01\n",
       "4  0.707107  0.000000e+00 -0.707107  1.000000e+00"
      ]
     },
     "execution_count": 164,
     "metadata": {},
     "output_type": "execute_result"
    }
   ],
   "source": [
    "np.sin(dfr*np.pi/4)"
   ]
  },
  {
   "cell_type": "code",
   "execution_count": 165,
   "id": "75ad1034-0297-4d81-be65-46298e3535db",
   "metadata": {},
   "outputs": [
    {
     "data": {
      "text/html": [
       "<div>\n",
       "<style scoped>\n",
       "    .dataframe tbody tr th:only-of-type {\n",
       "        vertical-align: middle;\n",
       "    }\n",
       "\n",
       "    .dataframe tbody tr th {\n",
       "        vertical-align: top;\n",
       "    }\n",
       "\n",
       "    .dataframe thead th {\n",
       "        text-align: right;\n",
       "    }\n",
       "</style>\n",
       "<table border=\"1\" class=\"dataframe\">\n",
       "  <thead>\n",
       "    <tr style=\"text-align: right;\">\n",
       "      <th></th>\n",
       "      <th>A</th>\n",
       "      <th>B</th>\n",
       "      <th>C</th>\n",
       "      <th>D</th>\n",
       "    </tr>\n",
       "  </thead>\n",
       "  <tbody>\n",
       "    <tr>\n",
       "      <th>0</th>\n",
       "      <td>0.000000</td>\n",
       "      <td>-7.071068e-01</td>\n",
       "      <td>-0.707107</td>\n",
       "      <td>-1.000000e+00</td>\n",
       "    </tr>\n",
       "    <tr>\n",
       "      <th>1</th>\n",
       "      <td>0.707107</td>\n",
       "      <td>-7.071068e-01</td>\n",
       "      <td>0.000000</td>\n",
       "      <td>1.224647e-16</td>\n",
       "    </tr>\n",
       "    <tr>\n",
       "      <th>2</th>\n",
       "      <td>0.707107</td>\n",
       "      <td>-7.071068e-01</td>\n",
       "      <td>-0.707107</td>\n",
       "      <td>7.071068e-01</td>\n",
       "    </tr>\n",
       "    <tr>\n",
       "      <th>3</th>\n",
       "      <td>-1.000000</td>\n",
       "      <td>-2.449294e-16</td>\n",
       "      <td>1.000000</td>\n",
       "      <td>7.071068e-01</td>\n",
       "    </tr>\n",
       "    <tr>\n",
       "      <th>4</th>\n",
       "      <td>0.707107</td>\n",
       "      <td>0.000000e+00</td>\n",
       "      <td>-0.707107</td>\n",
       "      <td>1.000000e+00</td>\n",
       "    </tr>\n",
       "  </tbody>\n",
       "</table>\n",
       "</div>"
      ],
      "text/plain": [
       "          A             B         C             D\n",
       "0  0.000000 -7.071068e-01 -0.707107 -1.000000e+00\n",
       "1  0.707107 -7.071068e-01  0.000000  1.224647e-16\n",
       "2  0.707107 -7.071068e-01 -0.707107  7.071068e-01\n",
       "3 -1.000000 -2.449294e-16  1.000000  7.071068e-01\n",
       "4  0.707107  0.000000e+00 -0.707107  1.000000e+00"
      ]
     },
     "execution_count": 165,
     "metadata": {},
     "output_type": "execute_result"
    }
   ],
   "source": [
    "np.sin(dfr*np.pi/4)"
   ]
  },
  {
   "cell_type": "markdown",
   "id": "82c10c9c-679a-4273-95b6-144bb6212129",
   "metadata": {},
   "source": [
    "**Universal Functions:Index Alignment**"
   ]
  },
  {
   "cell_type": "markdown",
   "id": "a06a2d0b-6fb6-40fb-b4a2-492080976ac1",
   "metadata": {},
   "source": [
    "**Index alignment in series**"
   ]
  },
  {
   "cell_type": "code",
   "execution_count": 166,
   "id": "5d60eb05-c5df-4e0c-9658-0c4332c6bc2c",
   "metadata": {},
   "outputs": [
    {
     "name": "stdout",
     "output_type": "stream",
     "text": [
      "Alaska        1783458\n",
      "Texas          675349\n",
      "California     423785\n",
      "Name: area, dtype: int64\n",
      "Alaska        12564527\n",
      "Texas         68652149\n",
      "California    56924813\n",
      "Name: population, dtype: int64\n"
     ]
    }
   ],
   "source": [
    "area=pd.Series({'Alaska':1783458,'Texas':675349,\n",
    "                'California':423785},name='area')\n",
    "population=pd.Series({'Alaska':12564527,'Texas':68652149,\n",
    "                'California':56924813},name='population')\n",
    "print(area)\n",
    "print(population)"
   ]
  },
  {
   "cell_type": "code",
   "execution_count": 167,
   "id": "8cbd06a1-5994-40d7-adeb-27e7203d2e57",
   "metadata": {},
   "outputs": [
    {
     "data": {
      "text/plain": [
       "Alaska          7.045037\n",
       "Texas         101.654328\n",
       "California    134.324747\n",
       "dtype: float64"
      ]
     },
     "execution_count": 167,
     "metadata": {},
     "output_type": "execute_result"
    }
   ],
   "source": [
    "population/area"
   ]
  },
  {
   "cell_type": "code",
   "execution_count": 168,
   "id": "01cead62-6a79-4a5d-b6fa-2ce223ebf16f",
   "metadata": {},
   "outputs": [
    {
     "data": {
      "text/plain": [
       "Index(['Alaska', 'Texas', 'California'], dtype='object')"
      ]
     },
     "execution_count": 168,
     "metadata": {},
     "output_type": "execute_result"
    }
   ],
   "source": [
    "population.index.union(area.index)"
   ]
  },
  {
   "cell_type": "code",
   "execution_count": 169,
   "id": "8506ff45-2645-4887-a5e0-22379c5d72a1",
   "metadata": {},
   "outputs": [
    {
     "name": "stdout",
     "output_type": "stream",
     "text": [
      "0    2\n",
      "1    4\n",
      "2    6\n",
      "dtype: int64\n",
      "1    1\n",
      "2    3\n",
      "3    5\n",
      "dtype: int64\n"
     ]
    },
    {
     "data": {
      "text/plain": [
       "0    NaN\n",
       "1    5.0\n",
       "2    9.0\n",
       "3    NaN\n",
       "dtype: float64"
      ]
     },
     "execution_count": 169,
     "metadata": {},
     "output_type": "execute_result"
    }
   ],
   "source": [
    "A=pd.Series([2,4,6],index=[0,1,2])\n",
    "B=pd.Series([1,3,5],index=[1,2,3])\n",
    "print(A)\n",
    "print(B)\n",
    "A+B"
   ]
  },
  {
   "cell_type": "code",
   "execution_count": 170,
   "id": "15921fd4-e0da-4729-8610-7b69896e3484",
   "metadata": {},
   "outputs": [
    {
     "data": {
      "text/plain": [
       "0    2.0\n",
       "1    5.0\n",
       "2    9.0\n",
       "3    5.0\n",
       "dtype: float64"
      ]
     },
     "execution_count": 170,
     "metadata": {},
     "output_type": "execute_result"
    }
   ],
   "source": [
    "A.add(B, fill_value=0)"
   ]
  },
  {
   "cell_type": "markdown",
   "id": "d2544173-0060-4d91-a0e3-e94b35e19422",
   "metadata": {},
   "source": [
    "**Data wrangling**"
   ]
  },
  {
   "cell_type": "code",
   "execution_count": 187,
   "id": "af4cf02f-8647-4a38-ba9f-45c98ceefaa5",
   "metadata": {},
   "outputs": [
    {
     "data": {
      "text/html": [
       "<div>\n",
       "<style scoped>\n",
       "    .dataframe tbody tr th:only-of-type {\n",
       "        vertical-align: middle;\n",
       "    }\n",
       "\n",
       "    .dataframe tbody tr th {\n",
       "        vertical-align: top;\n",
       "    }\n",
       "\n",
       "    .dataframe thead th {\n",
       "        text-align: right;\n",
       "    }\n",
       "</style>\n",
       "<table border=\"1\" class=\"dataframe\">\n",
       "  <thead>\n",
       "    <tr style=\"text-align: right;\">\n",
       "      <th></th>\n",
       "      <th>Literacy</th>\n",
       "      <th>province</th>\n",
       "      <th>year</th>\n",
       "      <th>nonsense</th>\n",
       "    </tr>\n",
       "  </thead>\n",
       "  <tbody>\n",
       "    <tr>\n",
       "      <th>0</th>\n",
       "      <td>0.2</td>\n",
       "      <td>FL</td>\n",
       "      <td>2013</td>\n",
       "      <td>10065.000000</td>\n",
       "    </tr>\n",
       "    <tr>\n",
       "      <th>1</th>\n",
       "      <td>0.1</td>\n",
       "      <td>FL</td>\n",
       "      <td>2014</td>\n",
       "      <td>20140.000000</td>\n",
       "    </tr>\n",
       "    <tr>\n",
       "      <th>2</th>\n",
       "      <td>0.5</td>\n",
       "      <td>NH</td>\n",
       "      <td>2013</td>\n",
       "      <td>4026.000000</td>\n",
       "    </tr>\n",
       "    <tr>\n",
       "      <th>3</th>\n",
       "      <td>0.3</td>\n",
       "      <td>NH</td>\n",
       "      <td>2014</td>\n",
       "      <td>6713.333333</td>\n",
       "    </tr>\n",
       "    <tr>\n",
       "      <th>4</th>\n",
       "      <td>0.5</td>\n",
       "      <td>ZH</td>\n",
       "      <td>2014</td>\n",
       "      <td>4028.000000</td>\n",
       "    </tr>\n",
       "  </tbody>\n",
       "</table>\n",
       "</div>"
      ],
      "text/plain": [
       "   Literacy province  year      nonsense\n",
       "0       0.2       FL  2013  10065.000000\n",
       "1       0.1       FL  2014  20140.000000\n",
       "2       0.5       NH  2013   4026.000000\n",
       "3       0.3       NH  2014   6713.333333\n",
       "4       0.5       ZH  2014   4028.000000"
      ]
     },
     "execution_count": 187,
     "metadata": {},
     "output_type": "execute_result"
    }
   ],
   "source": [
    "#merge operation\n",
    "df\n"
   ]
  },
  {
   "cell_type": "code",
   "execution_count": 188,
   "id": "8dba582a-23d7-4b11-a3bf-61f8f25f468a",
   "metadata": {},
   "outputs": [
    {
     "data": {
      "text/html": [
       "<div>\n",
       "<style scoped>\n",
       "    .dataframe tbody tr th:only-of-type {\n",
       "        vertical-align: middle;\n",
       "    }\n",
       "\n",
       "    .dataframe tbody tr th {\n",
       "        vertical-align: top;\n",
       "    }\n",
       "\n",
       "    .dataframe thead th {\n",
       "        text-align: right;\n",
       "    }\n",
       "</style>\n",
       "<table border=\"1\" class=\"dataframe\">\n",
       "  <thead>\n",
       "    <tr style=\"text-align: right;\">\n",
       "      <th></th>\n",
       "      <th>province</th>\n",
       "      <th>population</th>\n",
       "    </tr>\n",
       "  </thead>\n",
       "  <tbody>\n",
       "    <tr>\n",
       "      <th>0</th>\n",
       "      <td>FL</td>\n",
       "      <td>100000</td>\n",
       "    </tr>\n",
       "    <tr>\n",
       "      <th>1</th>\n",
       "      <td>NH</td>\n",
       "      <td>200000</td>\n",
       "    </tr>\n",
       "    <tr>\n",
       "      <th>2</th>\n",
       "      <td>ZH</td>\n",
       "      <td>300000</td>\n",
       "    </tr>\n",
       "  </tbody>\n",
       "</table>\n",
       "</div>"
      ],
      "text/plain": [
       "  province population\n",
       "0       FL     100000\n",
       "1       NH     200000\n",
       "2       ZH     300000"
      ]
     },
     "execution_count": 188,
     "metadata": {},
     "output_type": "execute_result"
    }
   ],
   "source": [
    "df2=pd.DataFrame({\"province\":[\"FL\",\"NH\",\"ZH\"],\"population\":[\"100000\",\"200000\",\"300000\"]})\n",
    "df2"
   ]
  },
  {
   "cell_type": "code",
   "execution_count": 189,
   "id": "f8a474a1-05ec-41c9-8774-e60bc2d656ce",
   "metadata": {},
   "outputs": [
    {
     "data": {
      "text/html": [
       "<div>\n",
       "<style scoped>\n",
       "    .dataframe tbody tr th:only-of-type {\n",
       "        vertical-align: middle;\n",
       "    }\n",
       "\n",
       "    .dataframe tbody tr th {\n",
       "        vertical-align: top;\n",
       "    }\n",
       "\n",
       "    .dataframe thead th {\n",
       "        text-align: right;\n",
       "    }\n",
       "</style>\n",
       "<table border=\"1\" class=\"dataframe\">\n",
       "  <thead>\n",
       "    <tr style=\"text-align: right;\">\n",
       "      <th></th>\n",
       "      <th>Literacy</th>\n",
       "      <th>province</th>\n",
       "      <th>year</th>\n",
       "      <th>nonsense</th>\n",
       "      <th>population</th>\n",
       "    </tr>\n",
       "  </thead>\n",
       "  <tbody>\n",
       "    <tr>\n",
       "      <th>0</th>\n",
       "      <td>0.2</td>\n",
       "      <td>FL</td>\n",
       "      <td>2013</td>\n",
       "      <td>10065.000000</td>\n",
       "      <td>100000</td>\n",
       "    </tr>\n",
       "    <tr>\n",
       "      <th>1</th>\n",
       "      <td>0.1</td>\n",
       "      <td>FL</td>\n",
       "      <td>2014</td>\n",
       "      <td>20140.000000</td>\n",
       "      <td>100000</td>\n",
       "    </tr>\n",
       "    <tr>\n",
       "      <th>2</th>\n",
       "      <td>0.5</td>\n",
       "      <td>NH</td>\n",
       "      <td>2013</td>\n",
       "      <td>4026.000000</td>\n",
       "      <td>200000</td>\n",
       "    </tr>\n",
       "    <tr>\n",
       "      <th>3</th>\n",
       "      <td>0.3</td>\n",
       "      <td>NH</td>\n",
       "      <td>2014</td>\n",
       "      <td>6713.333333</td>\n",
       "      <td>200000</td>\n",
       "    </tr>\n",
       "    <tr>\n",
       "      <th>4</th>\n",
       "      <td>0.5</td>\n",
       "      <td>ZH</td>\n",
       "      <td>2014</td>\n",
       "      <td>4028.000000</td>\n",
       "      <td>300000</td>\n",
       "    </tr>\n",
       "  </tbody>\n",
       "</table>\n",
       "</div>"
      ],
      "text/plain": [
       "   Literacy province  year      nonsense population\n",
       "0       0.2       FL  2013  10065.000000     100000\n",
       "1       0.1       FL  2014  20140.000000     100000\n",
       "2       0.5       NH  2013   4026.000000     200000\n",
       "3       0.3       NH  2014   6713.333333     200000\n",
       "4       0.5       ZH  2014   4028.000000     300000"
      ]
     },
     "execution_count": 189,
     "metadata": {},
     "output_type": "execute_result"
    }
   ],
   "source": [
    "df.merge(df2)"
   ]
  },
  {
   "cell_type": "code",
   "execution_count": 192,
   "id": "3b90f31e-ffc0-45b4-a6c8-f938aba683f4",
   "metadata": {},
   "outputs": [
    {
     "data": {
      "text/html": [
       "<div>\n",
       "<style scoped>\n",
       "    .dataframe tbody tr th:only-of-type {\n",
       "        vertical-align: middle;\n",
       "    }\n",
       "\n",
       "    .dataframe tbody tr th {\n",
       "        vertical-align: top;\n",
       "    }\n",
       "\n",
       "    .dataframe thead th {\n",
       "        text-align: right;\n",
       "    }\n",
       "</style>\n",
       "<table border=\"1\" class=\"dataframe\">\n",
       "  <thead>\n",
       "    <tr style=\"text-align: right;\">\n",
       "      <th></th>\n",
       "      <th>Literacy</th>\n",
       "      <th>province</th>\n",
       "      <th>year</th>\n",
       "      <th>nonsense</th>\n",
       "      <th>population</th>\n",
       "    </tr>\n",
       "  </thead>\n",
       "  <tbody>\n",
       "    <tr>\n",
       "      <th>0</th>\n",
       "      <td>0.2</td>\n",
       "      <td>FL</td>\n",
       "      <td>2013</td>\n",
       "      <td>10065.000000</td>\n",
       "      <td>100000</td>\n",
       "    </tr>\n",
       "    <tr>\n",
       "      <th>1</th>\n",
       "      <td>0.1</td>\n",
       "      <td>FL</td>\n",
       "      <td>2014</td>\n",
       "      <td>20140.000000</td>\n",
       "      <td>100000</td>\n",
       "    </tr>\n",
       "    <tr>\n",
       "      <th>2</th>\n",
       "      <td>0.5</td>\n",
       "      <td>NH</td>\n",
       "      <td>2013</td>\n",
       "      <td>4026.000000</td>\n",
       "      <td>200000</td>\n",
       "    </tr>\n",
       "    <tr>\n",
       "      <th>3</th>\n",
       "      <td>0.3</td>\n",
       "      <td>NH</td>\n",
       "      <td>2014</td>\n",
       "      <td>6713.333333</td>\n",
       "      <td>200000</td>\n",
       "    </tr>\n",
       "  </tbody>\n",
       "</table>\n",
       "</div>"
      ],
      "text/plain": [
       "   Literacy province  year      nonsense population\n",
       "0       0.2       FL  2013  10065.000000     100000\n",
       "1       0.1       FL  2014  20140.000000     100000\n",
       "2       0.5       NH  2013   4026.000000     200000\n",
       "3       0.3       NH  2014   6713.333333     200000"
      ]
     },
     "execution_count": 192,
     "metadata": {},
     "output_type": "execute_result"
    }
   ],
   "source": [
    "df3=pd.DataFrame({\"province\":[\"FL\",\"NH\"],\"population\":[\"100000\",\"200000\"]})\n",
    "df3\n",
    "df.merge(df3,right_on='province',left_on='province')"
   ]
  },
  {
   "cell_type": "code",
   "execution_count": 193,
   "id": "70913d88-0907-4012-8a87-f06f7586cf9a",
   "metadata": {},
   "outputs": [
    {
     "data": {
      "text/html": [
       "<div>\n",
       "<style scoped>\n",
       "    .dataframe tbody tr th:only-of-type {\n",
       "        vertical-align: middle;\n",
       "    }\n",
       "\n",
       "    .dataframe tbody tr th {\n",
       "        vertical-align: top;\n",
       "    }\n",
       "\n",
       "    .dataframe thead th {\n",
       "        text-align: right;\n",
       "    }\n",
       "</style>\n",
       "<table border=\"1\" class=\"dataframe\">\n",
       "  <thead>\n",
       "    <tr style=\"text-align: right;\">\n",
       "      <th></th>\n",
       "      <th>Literacy</th>\n",
       "      <th>province</th>\n",
       "      <th>year</th>\n",
       "      <th>nonsense</th>\n",
       "      <th>population</th>\n",
       "    </tr>\n",
       "  </thead>\n",
       "  <tbody>\n",
       "    <tr>\n",
       "      <th>0</th>\n",
       "      <td>0.2</td>\n",
       "      <td>FL</td>\n",
       "      <td>2013.0</td>\n",
       "      <td>10065.000000</td>\n",
       "      <td>100000</td>\n",
       "    </tr>\n",
       "    <tr>\n",
       "      <th>1</th>\n",
       "      <td>0.1</td>\n",
       "      <td>FL</td>\n",
       "      <td>2014.0</td>\n",
       "      <td>20140.000000</td>\n",
       "      <td>100000</td>\n",
       "    </tr>\n",
       "    <tr>\n",
       "      <th>2</th>\n",
       "      <td>0.5</td>\n",
       "      <td>NH</td>\n",
       "      <td>2013.0</td>\n",
       "      <td>4026.000000</td>\n",
       "      <td>200000</td>\n",
       "    </tr>\n",
       "    <tr>\n",
       "      <th>3</th>\n",
       "      <td>0.3</td>\n",
       "      <td>NH</td>\n",
       "      <td>2014.0</td>\n",
       "      <td>6713.333333</td>\n",
       "      <td>200000</td>\n",
       "    </tr>\n",
       "    <tr>\n",
       "      <th>4</th>\n",
       "      <td>NaN</td>\n",
       "      <td>UT</td>\n",
       "      <td>NaN</td>\n",
       "      <td>NaN</td>\n",
       "      <td>50000</td>\n",
       "    </tr>\n",
       "    <tr>\n",
       "      <th>5</th>\n",
       "      <td>0.5</td>\n",
       "      <td>ZH</td>\n",
       "      <td>2014.0</td>\n",
       "      <td>4028.000000</td>\n",
       "      <td>NaN</td>\n",
       "    </tr>\n",
       "  </tbody>\n",
       "</table>\n",
       "</div>"
      ],
      "text/plain": [
       "   Literacy province    year      nonsense population\n",
       "0       0.2       FL  2013.0  10065.000000     100000\n",
       "1       0.1       FL  2014.0  20140.000000     100000\n",
       "2       0.5       NH  2013.0   4026.000000     200000\n",
       "3       0.3       NH  2014.0   6713.333333     200000\n",
       "4       NaN       UT     NaN           NaN      50000\n",
       "5       0.5       ZH  2014.0   4028.000000        NaN"
      ]
     },
     "execution_count": 193,
     "metadata": {},
     "output_type": "execute_result"
    }
   ],
   "source": [
    "df4=pd.DataFrame({\"province\":[\"FL\",\"NH\",\"UT\"],\"population\":[\"100000\",\"200000\",\"50000\"]})\n",
    "df.merge(df4,how='outer')"
   ]
  },
  {
   "cell_type": "code",
   "execution_count": 196,
   "id": "d5d30ae1-3aaf-4aa3-94e4-f01e44f951ab",
   "metadata": {},
   "outputs": [
    {
     "name": "stdout",
     "output_type": "stream",
     "text": [
      "   Literacy province  year      nonsense\n",
      "0       0.2       FL  2013  10065.000000\n",
      "1       0.1       FL  2014  20140.000000\n",
      "2       0.5       NH  2013   4026.000000\n",
      "3       0.3       NH  2014   6713.333333\n",
      "4       0.5       ZH  2014   4028.000000\n"
     ]
    },
    {
     "data": {
      "text/html": [
       "<div>\n",
       "<style scoped>\n",
       "    .dataframe tbody tr th:only-of-type {\n",
       "        vertical-align: middle;\n",
       "    }\n",
       "\n",
       "    .dataframe tbody tr th {\n",
       "        vertical-align: top;\n",
       "    }\n",
       "\n",
       "    .dataframe thead th {\n",
       "        text-align: right;\n",
       "    }\n",
       "</style>\n",
       "<table border=\"1\" class=\"dataframe\">\n",
       "  <thead>\n",
       "    <tr style=\"text-align: right;\">\n",
       "      <th></th>\n",
       "      <th>Literacy</th>\n",
       "      <th>province</th>\n",
       "      <th>year</th>\n",
       "      <th>nonsense</th>\n",
       "      <th>population</th>\n",
       "    </tr>\n",
       "  </thead>\n",
       "  <tbody>\n",
       "    <tr>\n",
       "      <th>0</th>\n",
       "      <td>0.2</td>\n",
       "      <td>FL</td>\n",
       "      <td>2013</td>\n",
       "      <td>10065.000000</td>\n",
       "      <td>100000</td>\n",
       "    </tr>\n",
       "    <tr>\n",
       "      <th>1</th>\n",
       "      <td>0.2</td>\n",
       "      <td>FL</td>\n",
       "      <td>2013</td>\n",
       "      <td>10065.000000</td>\n",
       "      <td>50000</td>\n",
       "    </tr>\n",
       "    <tr>\n",
       "      <th>2</th>\n",
       "      <td>0.1</td>\n",
       "      <td>FL</td>\n",
       "      <td>2014</td>\n",
       "      <td>20140.000000</td>\n",
       "      <td>100000</td>\n",
       "    </tr>\n",
       "    <tr>\n",
       "      <th>3</th>\n",
       "      <td>0.1</td>\n",
       "      <td>FL</td>\n",
       "      <td>2014</td>\n",
       "      <td>20140.000000</td>\n",
       "      <td>50000</td>\n",
       "    </tr>\n",
       "    <tr>\n",
       "      <th>4</th>\n",
       "      <td>0.5</td>\n",
       "      <td>NH</td>\n",
       "      <td>2013</td>\n",
       "      <td>4026.000000</td>\n",
       "      <td>200000</td>\n",
       "    </tr>\n",
       "    <tr>\n",
       "      <th>5</th>\n",
       "      <td>0.3</td>\n",
       "      <td>NH</td>\n",
       "      <td>2014</td>\n",
       "      <td>6713.333333</td>\n",
       "      <td>200000</td>\n",
       "    </tr>\n",
       "    <tr>\n",
       "      <th>6</th>\n",
       "      <td>0.5</td>\n",
       "      <td>ZH</td>\n",
       "      <td>2014</td>\n",
       "      <td>4028.000000</td>\n",
       "      <td>NaN</td>\n",
       "    </tr>\n",
       "  </tbody>\n",
       "</table>\n",
       "</div>"
      ],
      "text/plain": [
       "   Literacy province  year      nonsense population\n",
       "0       0.2       FL  2013  10065.000000     100000\n",
       "1       0.2       FL  2013  10065.000000      50000\n",
       "2       0.1       FL  2014  20140.000000     100000\n",
       "3       0.1       FL  2014  20140.000000      50000\n",
       "4       0.5       NH  2013   4026.000000     200000\n",
       "5       0.3       NH  2014   6713.333333     200000\n",
       "6       0.5       ZH  2014   4028.000000        NaN"
      ]
     },
     "execution_count": 196,
     "metadata": {},
     "output_type": "execute_result"
    }
   ],
   "source": [
    "df5=pd.DataFrame({\"province\":[\"FL\",\"NH\",\"FL\"],\"population\":[\"100000\",\"200000\",\"50000\"]})\n",
    "print(df)\n",
    "df.merge(df5,how='outer')"
   ]
  },
  {
   "cell_type": "markdown",
   "id": "24ab1ec0-6e6a-4db0-8609-7b8a8410e5ca",
   "metadata": {},
   "source": [
    "**Combining data with overlap**"
   ]
  },
  {
   "cell_type": "code",
   "execution_count": 199,
   "id": "809bb080-6445-4a0c-acb9-719cc102ccc2",
   "metadata": {},
   "outputs": [],
   "source": [
    "serie_a=pd.Series([np.nan,2.5,np.nan,3.5,4.5,np.nan],\n",
    "                  index=['f','e','d','c','b','a'])\n",
    "serie_b=pd.Series(np.arange(len(serie_a),dtype=np.float64),\n",
    "                  index=['f','e','d','c','b','a'])"
   ]
  },
  {
   "cell_type": "code",
   "execution_count": 200,
   "id": "72eb7638-d020-446a-aa1c-08bf8712492e",
   "metadata": {},
   "outputs": [
    {
     "data": {
      "text/plain": [
       "f    NaN\n",
       "e    2.5\n",
       "d    NaN\n",
       "c    3.5\n",
       "b    4.5\n",
       "a    NaN\n",
       "dtype: float64"
      ]
     },
     "execution_count": 200,
     "metadata": {},
     "output_type": "execute_result"
    }
   ],
   "source": [
    "serie_a"
   ]
  },
  {
   "cell_type": "code",
   "execution_count": 201,
   "id": "d777c91c-7316-481b-8208-9fd83640ebbb",
   "metadata": {},
   "outputs": [
    {
     "data": {
      "text/plain": [
       "f    0.0\n",
       "e    1.0\n",
       "d    2.0\n",
       "c    3.0\n",
       "b    4.0\n",
       "a    5.0\n",
       "dtype: float64"
      ]
     },
     "execution_count": 201,
     "metadata": {},
     "output_type": "execute_result"
    }
   ],
   "source": [
    "serie_b"
   ]
  },
  {
   "cell_type": "code",
   "execution_count": 204,
   "id": "e45aa0b9-f33a-47f8-8156-78d51180f71f",
   "metadata": {},
   "outputs": [
    {
     "data": {
      "text/plain": [
       "f    0.0\n",
       "e    2.5\n",
       "d    2.0\n",
       "c    3.5\n",
       "b    4.5\n",
       "a    5.0\n",
       "dtype: float64"
      ]
     },
     "execution_count": 204,
     "metadata": {},
     "output_type": "execute_result"
    }
   ],
   "source": [
    "pd.Series(np.where(pd.isnull(serie_a),serie_b,serie_a),index=serie_a.index)"
   ]
  },
  {
   "cell_type": "code",
   "execution_count": 205,
   "id": "01fdd3d0-b0c5-4668-9da0-a03e72a377a8",
   "metadata": {},
   "outputs": [
    {
     "data": {
      "text/plain": [
       "f    0.0\n",
       "e    2.5\n",
       "d    2.0\n",
       "c    3.5\n",
       "b    4.5\n",
       "a    5.0\n",
       "dtype: float64"
      ]
     },
     "execution_count": 205,
     "metadata": {},
     "output_type": "execute_result"
    }
   ],
   "source": [
    "serie_a.combine_first(serie_b)"
   ]
  },
  {
   "cell_type": "code",
   "execution_count": null,
   "id": "25b7f981-b775-4dfc-8a3e-3d75e81c090b",
   "metadata": {},
   "outputs": [],
   "source": []
  }
 ],
 "metadata": {
  "kernelspec": {
   "display_name": "Python 3 (ipykernel)",
   "language": "python",
   "name": "python3"
  },
  "language_info": {
   "codemirror_mode": {
    "name": "ipython",
    "version": 3
   },
   "file_extension": ".py",
   "mimetype": "text/x-python",
   "name": "python",
   "nbconvert_exporter": "python",
   "pygments_lexer": "ipython3",
   "version": "3.11.4"
  }
 },
 "nbformat": 4,
 "nbformat_minor": 5
}
